{
 "cells": [
  {
   "cell_type": "code",
   "execution_count": 465,
   "metadata": {
    "collapsed": true,
    "ExecuteTime": {
     "start_time": "2023-08-24T08:09:29.916455Z",
     "end_time": "2023-08-24T08:09:30.306451Z"
    }
   },
   "outputs": [],
   "source": []
  },
  {
   "cell_type": "code",
   "execution_count": 466,
   "outputs": [],
   "source": [
    "import seaborn as sns\n",
    "import pandas as pd\n",
    "import numpy as np\n",
    "import os\n",
    "import datetime\n",
    "from dataclasses import dataclass, field\n",
    "\n",
    "from sklearn.linear_model import RidgeClassifierCV\n",
    "from sklearn.pipeline import make_pipeline\n",
    "\n",
    "from sktime.transformations.panel.rocket import Rocket\n",
    "\n",
    "from sktime.forecasting.model_selection import temporal_train_test_split\n",
    "\n",
    "from sklearn.model_selection import train_test_split\n",
    "\n",
    "import matplotlib.pyplot as plt\n",
    "from sklearn.metrics import confusion_matrix\n",
    "from sklearn.metrics import precision_score\n",
    "\n",
    "from sktime import datatypes\n"
   ],
   "metadata": {
    "collapsed": false,
    "ExecuteTime": {
     "start_time": "2023-08-24T08:09:29.922958Z",
     "end_time": "2023-08-24T08:09:30.389007Z"
    }
   }
  },
  {
   "cell_type": "code",
   "execution_count": 467,
   "outputs": [],
   "source": [
    "def gen_labellist(columns):\n",
    "    global df\n",
    "    label_list =[]\n",
    "    for value, group_df in df.groupby(level='id'):\n",
    "        inner = []\n",
    "        for col in columns.split(','):\n",
    "            id_series = group_df[col]\n",
    "            first_element = id_series.iloc[0]\n",
    "            inner.append(first_element)\n",
    "        label_list.append(inner)\n",
    "    label_list = np.array(label_list)\n",
    "    for col in columns.split(','):\n",
    "        df = df.drop(col, axis=1)\n",
    "    return label_list\n",
    "\n",
    "def gen_labellist_test(columns):\n",
    "    global test\n",
    "    label_list =[]\n",
    "    for value, group_df in test.groupby(level='id'):\n",
    "        inner = []\n",
    "        for col in columns.split(','):\n",
    "            id_series = group_df[col]\n",
    "            first_element = id_series.iloc[0]\n",
    "            inner.append(first_element)\n",
    "        label_list.append(inner)\n",
    "    label_list = np.array(label_list)\n",
    "    for col in columns.split(','):\n",
    "        test = test.drop(col, axis=1)\n",
    "    return label_list\n",
    "\n",
    "def dataframe_rocket(df):\n",
    "    nested_dict = {}\n",
    "    for time, group_df in df.groupby(level='t_sec'):\n",
    "        enzyme_dict = {}\n",
    "        for column_name in df.columns:\n",
    "            xs = df.xs(time, level='t_sec')[column_name]\n",
    "            enzyme_dict[column_name] = xs\n",
    "        nested_dict[time] = enzyme_dict\n",
    "    dataframe = pd.DataFrame(nested_dict)\n",
    "    dataframe = dataframe.transpose()\n",
    "    return dataframe\n",
    "\n",
    "def gen_3d_nparray(df):\n",
    "    d3_array = []\n",
    "    for value, group_df in df.groupby(level='id'):\n",
    "        inner_array = []\n",
    "        for col in df.columns:\n",
    "            inner = np.array(group_df[col])\n",
    "            inner_array.append(inner)\n",
    "        inner_nparray = np.array(inner_array)\n",
    "        d3_array.append(inner_nparray)\n",
    "    d3_nparray = np.array(d3_array)\n",
    "    return d3_nparray"
   ],
   "metadata": {
    "collapsed": false,
    "ExecuteTime": {
     "start_time": "2023-08-24T08:09:29.928449Z",
     "end_time": "2023-08-24T08:09:30.389444Z"
    }
   }
  },
  {
   "cell_type": "code",
   "execution_count": 468,
   "outputs": [],
   "source": [
    "start_time = datetime.datetime.now()"
   ],
   "metadata": {
    "collapsed": false,
    "ExecuteTime": {
     "start_time": "2023-08-24T08:09:29.935253Z",
     "end_time": "2023-08-24T08:09:30.389592Z"
    }
   }
  },
  {
   "cell_type": "code",
   "execution_count": 469,
   "outputs": [
    {
     "name": "stderr",
     "output_type": "stream",
     "text": [
      "/var/folders/b4/pcdvhyhx15vb8w5sq0k6wz980000gn/T/ipykernel_11730/1496083311.py:2: DtypeWarning: Columns (4) have mixed types. Specify dtype option on import or set low_memory=False.\n",
      "  df = pd.read_csv('dataset_mapk361_n25_inh0_nonoise_h25_train.csv', sep=',',\n"
     ]
    }
   ],
   "source": [
    "name = 'mapk361_n25_inh0_nonoise'\n",
    "df = pd.read_csv('dataset_mapk361_n25_inh0_nonoise_h25_train.csv', sep=',',\n",
    "                 index_col=['id', 't_sec'])\n",
    "status_array = gen_labellist('desc')\n",
    "df = df.drop('status', axis=1)\n",
    "df = df.drop('inhibition', axis=1)\n",
    "df = df.drop('inh_strength', axis=1)\n",
    "new_level2 = pd.RangeIndex(start=0, stop=len(df), step=1)\n",
    "df.index = df.index.set_levels(new_level2, level='t_sec')"
   ],
   "metadata": {
    "collapsed": false,
    "ExecuteTime": {
     "start_time": "2023-08-24T08:09:29.946189Z",
     "end_time": "2023-08-24T08:09:31.627944Z"
    }
   }
  },
  {
   "cell_type": "code",
   "execution_count": 470,
   "outputs": [
    {
     "name": "stderr",
     "output_type": "stream",
     "text": [
      "/var/folders/b4/pcdvhyhx15vb8w5sq0k6wz980000gn/T/ipykernel_11730/910061132.py:1: DtypeWarning: Columns (4) have mixed types. Specify dtype option on import or set low_memory=False.\n",
      "  test = pd.read_csv('dataset_mapk361_n25_inh0_nonoise_h25_test.csv', sep=',',\n"
     ]
    }
   ],
   "source": [
    "test = pd.read_csv('dataset_mapk361_n25_inh0_nonoise_h25_test.csv', sep=',',\n",
    "                 index_col=['id', 't_sec'])\n",
    "test.index = test.index.set_levels(new_level2, level='t_sec')\n",
    "status_array_test = gen_labellist_test('desc')\n",
    "test = test.drop('status', axis=1)\n",
    "test = test.drop('inhibition', axis=1)\n",
    "test = test.drop('inh_strength', axis=1)"
   ],
   "metadata": {
    "collapsed": false,
    "ExecuteTime": {
     "start_time": "2023-08-24T08:09:31.630178Z",
     "end_time": "2023-08-24T08:09:32.531736Z"
    }
   }
  },
  {
   "cell_type": "code",
   "execution_count": 471,
   "outputs": [],
   "source": [
    "rocket_array = gen_3d_nparray(df)"
   ],
   "metadata": {
    "collapsed": false,
    "ExecuteTime": {
     "start_time": "2023-08-24T08:09:32.533801Z",
     "end_time": "2023-08-24T08:09:32.874005Z"
    }
   }
  },
  {
   "cell_type": "code",
   "execution_count": 472,
   "outputs": [],
   "source": [
    "rocket_array = rocket_array.astype(float)"
   ],
   "metadata": {
    "collapsed": false,
    "ExecuteTime": {
     "start_time": "2023-08-24T08:09:32.879206Z",
     "end_time": "2023-08-24T08:09:32.886275Z"
    }
   }
  },
  {
   "cell_type": "code",
   "execution_count": 473,
   "outputs": [
    {
     "data": {
      "text/plain": "dtype('float64')"
     },
     "execution_count": 473,
     "metadata": {},
     "output_type": "execute_result"
    }
   ],
   "source": [
    "rocket_array.dtype"
   ],
   "metadata": {
    "collapsed": false,
    "ExecuteTime": {
     "start_time": "2023-08-24T08:09:32.889782Z",
     "end_time": "2023-08-24T08:09:32.945742Z"
    }
   }
  },
  {
   "cell_type": "code",
   "execution_count": 474,
   "outputs": [],
   "source": [
    "data = (df, status_array)"
   ],
   "metadata": {
    "collapsed": false,
    "ExecuteTime": {
     "start_time": "2023-08-24T08:09:32.907142Z",
     "end_time": "2023-08-24T08:09:32.975042Z"
    }
   }
  },
  {
   "cell_type": "code",
   "execution_count": 475,
   "outputs": [],
   "source": [
    "# X_train, X_test, y_train, y_test = temporal_train_test_split(X, y, test_size=0.3)\n",
    "# X_train, X_test, y_train, y_test = train_test_split(X, y, test_size=0.2, random_state=42)\n",
    "X_train = df\n",
    "y_train = status_array\n",
    "X_test = test\n",
    "y_test = status_array_test"
   ],
   "metadata": {
    "collapsed": false,
    "ExecuteTime": {
     "start_time": "2023-08-24T08:09:32.924867Z",
     "end_time": "2023-08-24T08:09:32.978929Z"
    }
   }
  },
  {
   "cell_type": "code",
   "execution_count": 476,
   "outputs": [
    {
     "data": {
      "text/plain": "True"
     },
     "execution_count": 476,
     "metadata": {},
     "output_type": "execute_result"
    }
   ],
   "source": [
    "datatypes.check_raise(X_train, 'pd-multiindex')"
   ],
   "metadata": {
    "collapsed": false,
    "ExecuteTime": {
     "start_time": "2023-08-24T08:09:32.937314Z",
     "end_time": "2023-08-24T08:09:32.979261Z"
    }
   }
  },
  {
   "cell_type": "code",
   "execution_count": 477,
   "outputs": [],
   "source": [
    "rocket = Rocket(n_jobs=-1)\n",
    "rocket.fit(X_train)\n",
    "X_train_transform = rocket.transform(X_train)"
   ],
   "metadata": {
    "collapsed": false,
    "ExecuteTime": {
     "start_time": "2023-08-24T08:09:32.952641Z",
     "end_time": "2023-08-24T08:10:36.583238Z"
    }
   }
  },
  {
   "cell_type": "code",
   "execution_count": 478,
   "outputs": [],
   "source": [
    "X_test_transform = rocket.transform(X_test)"
   ],
   "metadata": {
    "collapsed": false,
    "ExecuteTime": {
     "start_time": "2023-08-24T08:10:36.589436Z",
     "end_time": "2023-08-24T08:11:52.065139Z"
    }
   }
  },
  {
   "cell_type": "code",
   "execution_count": 479,
   "outputs": [
    {
     "data": {
      "text/plain": "(726, 20000)"
     },
     "execution_count": 479,
     "metadata": {},
     "output_type": "execute_result"
    }
   ],
   "source": [
    "X_train_transform.shape"
   ],
   "metadata": {
    "collapsed": false,
    "ExecuteTime": {
     "start_time": "2023-08-24T08:11:52.069265Z",
     "end_time": "2023-08-24T08:11:52.082249Z"
    }
   }
  },
  {
   "cell_type": "code",
   "execution_count": 480,
   "outputs": [
    {
     "data": {
      "text/plain": "                 MKKK        MKKK_P         MKK         MKK_P        MKK_PP  \\\nid  t_sec                                                                     \n0   0      103.107439 -5.534079e+00  300.971661  8.382192e+00 -3.955745e+00   \n    1       86.618931  3.807860e+00  296.860870  2.454985e+00  2.267677e+00   \n    2       87.934834  1.877844e+01  293.988210  8.375027e-01 -4.529206e+00   \n    3       76.465968  1.996279e+01  298.606369  1.385218e+00  9.540002e+00   \n    4       57.787583  4.475158e+01  293.686166  6.305139e+00 -7.632093e+00   \n...               ...           ...         ...           ...           ...   \n725 356     97.000000  5.486817e-09  294.000000 -6.830693e-11  1.788019e-18   \n    357     97.000000 -2.310042e-08  294.000000  2.801168e-10  1.816441e-18   \n    358     97.000000  1.304180e-08  294.000000 -1.603860e-10  2.040337e-18   \n    359     97.000000 -1.331345e-08  294.000000  1.608075e-10  2.202296e-18   \n    360     97.000000 -6.637038e-09  294.000000  7.940939e-11  2.082818e-18   \n\n                 MAPK    MAPK_P   MAPK_PP      Signal       Signal_A  \\\nid  t_sec                                                              \n0   0      296.300180 -0.864342 -2.141319    0.055363   1.975688e+02   \n    1      304.327314  3.194868  5.944832   23.195293   1.985338e+02   \n    2      298.460106  4.272817  5.158037   15.516339   1.650910e+02   \n    3      303.975740  6.518074  0.450742   36.327592   1.659424e+02   \n    4      299.052033 -4.953441  3.053356   40.711017   1.601340e+02   \n...               ...       ...       ...         ...            ...   \n725 356    294.993357  0.006599  0.000044  200.000000  5.335433e-183   \n    357    294.994324  0.005639  0.000037  200.000000  1.528651e-183   \n    358    294.995150  0.004819  0.000032  200.000000  4.379654e-184   \n    359    294.995855  0.004117  0.000027  200.000000  1.254814e-184   \n    360    294.996458  0.003518  0.000023  200.000000  3.595133e-185   \n\n                  RAS         RAS_A  \nid  t_sec                            \n0   0       99.955147 -4.427972e+00  \n    1       24.044471  9.316512e+01  \n    2       -4.247695  1.070612e+02  \n    3        7.011335  9.597617e+01  \n    4        2.595599  8.880456e+01  \n...               ...           ...  \n725 356    101.000000 -4.776267e-07  \n    357    100.999998  2.009646e-06  \n    358    101.000001 -1.134978e-06  \n    359    100.999999  1.158086e-06  \n    360    100.999999  5.772015e-07  \n\n[262086 rows x 12 columns]",
      "text/html": "<div>\n<style scoped>\n    .dataframe tbody tr th:only-of-type {\n        vertical-align: middle;\n    }\n\n    .dataframe tbody tr th {\n        vertical-align: top;\n    }\n\n    .dataframe thead th {\n        text-align: right;\n    }\n</style>\n<table border=\"1\" class=\"dataframe\">\n  <thead>\n    <tr style=\"text-align: right;\">\n      <th></th>\n      <th></th>\n      <th>MKKK</th>\n      <th>MKKK_P</th>\n      <th>MKK</th>\n      <th>MKK_P</th>\n      <th>MKK_PP</th>\n      <th>MAPK</th>\n      <th>MAPK_P</th>\n      <th>MAPK_PP</th>\n      <th>Signal</th>\n      <th>Signal_A</th>\n      <th>RAS</th>\n      <th>RAS_A</th>\n    </tr>\n    <tr>\n      <th>id</th>\n      <th>t_sec</th>\n      <th></th>\n      <th></th>\n      <th></th>\n      <th></th>\n      <th></th>\n      <th></th>\n      <th></th>\n      <th></th>\n      <th></th>\n      <th></th>\n      <th></th>\n      <th></th>\n    </tr>\n  </thead>\n  <tbody>\n    <tr>\n      <th rowspan=\"5\" valign=\"top\">0</th>\n      <th>0</th>\n      <td>103.107439</td>\n      <td>-5.534079e+00</td>\n      <td>300.971661</td>\n      <td>8.382192e+00</td>\n      <td>-3.955745e+00</td>\n      <td>296.300180</td>\n      <td>-0.864342</td>\n      <td>-2.141319</td>\n      <td>0.055363</td>\n      <td>1.975688e+02</td>\n      <td>99.955147</td>\n      <td>-4.427972e+00</td>\n    </tr>\n    <tr>\n      <th>1</th>\n      <td>86.618931</td>\n      <td>3.807860e+00</td>\n      <td>296.860870</td>\n      <td>2.454985e+00</td>\n      <td>2.267677e+00</td>\n      <td>304.327314</td>\n      <td>3.194868</td>\n      <td>5.944832</td>\n      <td>23.195293</td>\n      <td>1.985338e+02</td>\n      <td>24.044471</td>\n      <td>9.316512e+01</td>\n    </tr>\n    <tr>\n      <th>2</th>\n      <td>87.934834</td>\n      <td>1.877844e+01</td>\n      <td>293.988210</td>\n      <td>8.375027e-01</td>\n      <td>-4.529206e+00</td>\n      <td>298.460106</td>\n      <td>4.272817</td>\n      <td>5.158037</td>\n      <td>15.516339</td>\n      <td>1.650910e+02</td>\n      <td>-4.247695</td>\n      <td>1.070612e+02</td>\n    </tr>\n    <tr>\n      <th>3</th>\n      <td>76.465968</td>\n      <td>1.996279e+01</td>\n      <td>298.606369</td>\n      <td>1.385218e+00</td>\n      <td>9.540002e+00</td>\n      <td>303.975740</td>\n      <td>6.518074</td>\n      <td>0.450742</td>\n      <td>36.327592</td>\n      <td>1.659424e+02</td>\n      <td>7.011335</td>\n      <td>9.597617e+01</td>\n    </tr>\n    <tr>\n      <th>4</th>\n      <td>57.787583</td>\n      <td>4.475158e+01</td>\n      <td>293.686166</td>\n      <td>6.305139e+00</td>\n      <td>-7.632093e+00</td>\n      <td>299.052033</td>\n      <td>-4.953441</td>\n      <td>3.053356</td>\n      <td>40.711017</td>\n      <td>1.601340e+02</td>\n      <td>2.595599</td>\n      <td>8.880456e+01</td>\n    </tr>\n    <tr>\n      <th>...</th>\n      <th>...</th>\n      <td>...</td>\n      <td>...</td>\n      <td>...</td>\n      <td>...</td>\n      <td>...</td>\n      <td>...</td>\n      <td>...</td>\n      <td>...</td>\n      <td>...</td>\n      <td>...</td>\n      <td>...</td>\n      <td>...</td>\n    </tr>\n    <tr>\n      <th rowspan=\"5\" valign=\"top\">725</th>\n      <th>356</th>\n      <td>97.000000</td>\n      <td>5.486817e-09</td>\n      <td>294.000000</td>\n      <td>-6.830693e-11</td>\n      <td>1.788019e-18</td>\n      <td>294.993357</td>\n      <td>0.006599</td>\n      <td>0.000044</td>\n      <td>200.000000</td>\n      <td>5.335433e-183</td>\n      <td>101.000000</td>\n      <td>-4.776267e-07</td>\n    </tr>\n    <tr>\n      <th>357</th>\n      <td>97.000000</td>\n      <td>-2.310042e-08</td>\n      <td>294.000000</td>\n      <td>2.801168e-10</td>\n      <td>1.816441e-18</td>\n      <td>294.994324</td>\n      <td>0.005639</td>\n      <td>0.000037</td>\n      <td>200.000000</td>\n      <td>1.528651e-183</td>\n      <td>100.999998</td>\n      <td>2.009646e-06</td>\n    </tr>\n    <tr>\n      <th>358</th>\n      <td>97.000000</td>\n      <td>1.304180e-08</td>\n      <td>294.000000</td>\n      <td>-1.603860e-10</td>\n      <td>2.040337e-18</td>\n      <td>294.995150</td>\n      <td>0.004819</td>\n      <td>0.000032</td>\n      <td>200.000000</td>\n      <td>4.379654e-184</td>\n      <td>101.000001</td>\n      <td>-1.134978e-06</td>\n    </tr>\n    <tr>\n      <th>359</th>\n      <td>97.000000</td>\n      <td>-1.331345e-08</td>\n      <td>294.000000</td>\n      <td>1.608075e-10</td>\n      <td>2.202296e-18</td>\n      <td>294.995855</td>\n      <td>0.004117</td>\n      <td>0.000027</td>\n      <td>200.000000</td>\n      <td>1.254814e-184</td>\n      <td>100.999999</td>\n      <td>1.158086e-06</td>\n    </tr>\n    <tr>\n      <th>360</th>\n      <td>97.000000</td>\n      <td>-6.637038e-09</td>\n      <td>294.000000</td>\n      <td>7.940939e-11</td>\n      <td>2.082818e-18</td>\n      <td>294.996458</td>\n      <td>0.003518</td>\n      <td>0.000023</td>\n      <td>200.000000</td>\n      <td>3.595133e-185</td>\n      <td>100.999999</td>\n      <td>5.772015e-07</td>\n    </tr>\n  </tbody>\n</table>\n<p>262086 rows × 12 columns</p>\n</div>"
     },
     "execution_count": 480,
     "metadata": {},
     "output_type": "execute_result"
    }
   ],
   "source": [
    "X_train"
   ],
   "metadata": {
    "collapsed": false,
    "ExecuteTime": {
     "start_time": "2023-08-24T08:11:52.079120Z",
     "end_time": "2023-08-24T08:11:52.146471Z"
    }
   }
  },
  {
   "cell_type": "code",
   "execution_count": 481,
   "outputs": [
    {
     "data": {
      "text/plain": "{'-': 1,\n 'mapk': 1,\n 'mapk, mkk, mkkk': 1,\n 'mkk': 1,\n 'mkk_pp': 1,\n 'mkkk': 1,\n 'mkkk_p': 1,\n 'mkp_mapk': 1,\n 'mkp_mapk, mkp_mkk, mkp_mkkk': 1,\n 'mkp_mkk': 1,\n 'mkp_mkkk': 1,\n 'ras': 1,\n 'ras_active': 1,\n 'signal_active': 1}"
     },
     "execution_count": 481,
     "metadata": {},
     "output_type": "execute_result"
    }
   ],
   "source": [
    "weight = {}\n",
    "classes = np.unique(y_train)\n",
    "for i in classes:\n",
    "    if i == '-':\n",
    "        weight[i] = 1\n",
    "    else:\n",
    "        weight[i] = 1\n",
    "weight"
   ],
   "metadata": {
    "collapsed": false,
    "ExecuteTime": {
     "start_time": "2023-08-24T08:11:52.120209Z",
     "end_time": "2023-08-24T08:11:52.292614Z"
    }
   }
  },
  {
   "cell_type": "code",
   "execution_count": 482,
   "outputs": [
    {
     "name": "stderr",
     "output_type": "stream",
     "text": [
      "/Users/slw/opt/anaconda3/envs/homl3/lib/python3.10/site-packages/sklearn/linear_model/_ridge.py:1178: DataConversionWarning: A column-vector y was passed when a 1d array was expected. Please change the shape of y to (n_samples, ), for example using ravel().\n",
      "  y = column_or_1d(y, warn=True)\n"
     ]
    },
    {
     "data": {
      "text/plain": "RidgeClassifierCV(alphas=array([1.00000000e-03, 4.64158883e-03, 2.15443469e-02, 1.00000000e-01,\n       4.64158883e-01, 2.15443469e+00, 1.00000000e+01, 4.64158883e+01,\n       2.15443469e+02, 1.00000000e+03]))",
      "text/html": "<style>#sk-container-id-17 {color: black;background-color: white;}#sk-container-id-17 pre{padding: 0;}#sk-container-id-17 div.sk-toggleable {background-color: white;}#sk-container-id-17 label.sk-toggleable__label {cursor: pointer;display: block;width: 100%;margin-bottom: 0;padding: 0.3em;box-sizing: border-box;text-align: center;}#sk-container-id-17 label.sk-toggleable__label-arrow:before {content: \"▸\";float: left;margin-right: 0.25em;color: #696969;}#sk-container-id-17 label.sk-toggleable__label-arrow:hover:before {color: black;}#sk-container-id-17 div.sk-estimator:hover label.sk-toggleable__label-arrow:before {color: black;}#sk-container-id-17 div.sk-toggleable__content {max-height: 0;max-width: 0;overflow: hidden;text-align: left;background-color: #f0f8ff;}#sk-container-id-17 div.sk-toggleable__content pre {margin: 0.2em;color: black;border-radius: 0.25em;background-color: #f0f8ff;}#sk-container-id-17 input.sk-toggleable__control:checked~div.sk-toggleable__content {max-height: 200px;max-width: 100%;overflow: auto;}#sk-container-id-17 input.sk-toggleable__control:checked~label.sk-toggleable__label-arrow:before {content: \"▾\";}#sk-container-id-17 div.sk-estimator input.sk-toggleable__control:checked~label.sk-toggleable__label {background-color: #d4ebff;}#sk-container-id-17 div.sk-label input.sk-toggleable__control:checked~label.sk-toggleable__label {background-color: #d4ebff;}#sk-container-id-17 input.sk-hidden--visually {border: 0;clip: rect(1px 1px 1px 1px);clip: rect(1px, 1px, 1px, 1px);height: 1px;margin: -1px;overflow: hidden;padding: 0;position: absolute;width: 1px;}#sk-container-id-17 div.sk-estimator {font-family: monospace;background-color: #f0f8ff;border: 1px dotted black;border-radius: 0.25em;box-sizing: border-box;margin-bottom: 0.5em;}#sk-container-id-17 div.sk-estimator:hover {background-color: #d4ebff;}#sk-container-id-17 div.sk-parallel-item::after {content: \"\";width: 100%;border-bottom: 1px solid gray;flex-grow: 1;}#sk-container-id-17 div.sk-label:hover label.sk-toggleable__label {background-color: #d4ebff;}#sk-container-id-17 div.sk-serial::before {content: \"\";position: absolute;border-left: 1px solid gray;box-sizing: border-box;top: 0;bottom: 0;left: 50%;z-index: 0;}#sk-container-id-17 div.sk-serial {display: flex;flex-direction: column;align-items: center;background-color: white;padding-right: 0.2em;padding-left: 0.2em;position: relative;}#sk-container-id-17 div.sk-item {position: relative;z-index: 1;}#sk-container-id-17 div.sk-parallel {display: flex;align-items: stretch;justify-content: center;background-color: white;position: relative;}#sk-container-id-17 div.sk-item::before, #sk-container-id-17 div.sk-parallel-item::before {content: \"\";position: absolute;border-left: 1px solid gray;box-sizing: border-box;top: 0;bottom: 0;left: 50%;z-index: -1;}#sk-container-id-17 div.sk-parallel-item {display: flex;flex-direction: column;z-index: 1;position: relative;background-color: white;}#sk-container-id-17 div.sk-parallel-item:first-child::after {align-self: flex-end;width: 50%;}#sk-container-id-17 div.sk-parallel-item:last-child::after {align-self: flex-start;width: 50%;}#sk-container-id-17 div.sk-parallel-item:only-child::after {width: 0;}#sk-container-id-17 div.sk-dashed-wrapped {border: 1px dashed gray;margin: 0 0.4em 0.5em 0.4em;box-sizing: border-box;padding-bottom: 0.4em;background-color: white;}#sk-container-id-17 div.sk-label label {font-family: monospace;font-weight: bold;display: inline-block;line-height: 1.2em;}#sk-container-id-17 div.sk-label-container {text-align: center;}#sk-container-id-17 div.sk-container {/* jupyter's `normalize.less` sets `[hidden] { display: none; }` but bootstrap.min.css set `[hidden] { display: none !important; }` so we also need the `!important` here to be able to override the default hidden behavior on the sphinx rendered scikit-learn.org. See: https://github.com/scikit-learn/scikit-learn/issues/21755 */display: inline-block !important;position: relative;}#sk-container-id-17 div.sk-text-repr-fallback {display: none;}</style><div id=\"sk-container-id-17\" class=\"sk-top-container\"><div class=\"sk-text-repr-fallback\"><pre>RidgeClassifierCV(alphas=array([1.00000000e-03, 4.64158883e-03, 2.15443469e-02, 1.00000000e-01,\n       4.64158883e-01, 2.15443469e+00, 1.00000000e+01, 4.64158883e+01,\n       2.15443469e+02, 1.00000000e+03]))</pre><b>In a Jupyter environment, please rerun this cell to show the HTML representation or trust the notebook. <br />On GitHub, the HTML representation is unable to render, please try loading this page with nbviewer.org.</b></div><div class=\"sk-container\" hidden><div class=\"sk-item\"><div class=\"sk-estimator sk-toggleable\"><input class=\"sk-toggleable__control sk-hidden--visually\" id=\"sk-estimator-id-17\" type=\"checkbox\" checked><label for=\"sk-estimator-id-17\" class=\"sk-toggleable__label sk-toggleable__label-arrow\">RidgeClassifierCV</label><div class=\"sk-toggleable__content\"><pre>RidgeClassifierCV(alphas=array([1.00000000e-03, 4.64158883e-03, 2.15443469e-02, 1.00000000e-01,\n       4.64158883e-01, 2.15443469e+00, 1.00000000e+01, 4.64158883e+01,\n       2.15443469e+02, 1.00000000e+03]))</pre></div></div></div></div></div>"
     },
     "execution_count": 482,
     "metadata": {},
     "output_type": "execute_result"
    }
   ],
   "source": [
    "classifier = RidgeClassifierCV(alphas=np.logspace(-3, 3, 10))\n",
    "classifier.fit(X_train_transform, y_train)"
   ],
   "metadata": {
    "collapsed": false,
    "ExecuteTime": {
     "start_time": "2023-08-24T08:11:52.253983Z",
     "end_time": "2023-08-24T08:11:55.276405Z"
    }
   }
  },
  {
   "cell_type": "code",
   "execution_count": 482,
   "outputs": [],
   "source": [],
   "metadata": {
    "collapsed": false,
    "ExecuteTime": {
     "start_time": "2023-08-24T08:11:55.277460Z",
     "end_time": "2023-08-24T08:11:55.287156Z"
    }
   }
  },
  {
   "cell_type": "code",
   "execution_count": 483,
   "outputs": [],
   "source": [
    "y_pred = classifier.predict(X_test_transform)"
   ],
   "metadata": {
    "collapsed": false,
    "ExecuteTime": {
     "start_time": "2023-08-24T08:11:55.315628Z",
     "end_time": "2023-08-24T08:11:55.904701Z"
    }
   }
  },
  {
   "cell_type": "code",
   "execution_count": 484,
   "outputs": [],
   "source": [
    "end_time = datetime.datetime.now()"
   ],
   "metadata": {
    "collapsed": false,
    "ExecuteTime": {
     "start_time": "2023-08-24T08:11:55.867717Z",
     "end_time": "2023-08-24T08:11:55.904923Z"
    }
   }
  },
  {
   "cell_type": "code",
   "execution_count": 485,
   "outputs": [
    {
     "data": {
      "text/plain": "0.9545454545454546"
     },
     "execution_count": 485,
     "metadata": {},
     "output_type": "execute_result"
    }
   ],
   "source": [
    "classifier.score(X_test_transform, y_test)"
   ],
   "metadata": {
    "collapsed": false,
    "ExecuteTime": {
     "start_time": "2023-08-24T08:11:55.879379Z",
     "end_time": "2023-08-24T08:11:56.375143Z"
    }
   }
  },
  {
   "cell_type": "code",
   "execution_count": 486,
   "outputs": [],
   "source": [
    "cm = confusion_matrix(y_test, y_pred)"
   ],
   "metadata": {
    "collapsed": false,
    "ExecuteTime": {
     "start_time": "2023-08-24T08:11:56.374855Z",
     "end_time": "2023-08-24T08:11:56.390065Z"
    }
   }
  },
  {
   "cell_type": "code",
   "execution_count": 487,
   "outputs": [
    {
     "data": {
      "text/plain": "array([[ 26,   0,   0,   0,   0,   0,   0,   0,   0,   0,   0,   0,   0,\n          0],\n       [  2,  23,   0,   0,   0,   0,   0,   0,   0,   0,   0,   0,   0,\n          0],\n       [  0,   1,  22,   0,   0,   2,   0,   0,   0,   0,   0,   0,   0,\n          0],\n       [  2,   0,   0,  23,   0,   0,   0,   0,   0,   0,   0,   0,   0,\n          0],\n       [  2,   0,   0,   0,  73,   0,   0,   0,   0,   0,   0,   0,   0,\n          0],\n       [  0,   0,   1,   0,   0,  24,   0,   0,   0,   0,   0,   0,   0,\n          0],\n       [  3,   0,   0,   0,   0,   0,  72,   0,   0,   0,   0,   0,   0,\n          0],\n       [  2,   0,   0,   0,   0,   0,   0,  98,   0,   0,   0,   0,   0,\n          0],\n       [  0,   0,   0,   0,   0,   0,   0,   0,  21,   3,   1,   0,   0,\n          0],\n       [  0,   0,   0,   0,   0,   0,   0,   0,   0, 100,   0,   0,   0,\n          0],\n       [  2,   0,   0,   0,   0,   0,   0,   0,   0,   0,  98,   0,   0,\n          0],\n       [  0,   0,   0,   0,   0,   0,   0,   0,   0,   0,   0,  25,   0,\n          0],\n       [  6,   0,   0,   0,   0,   0,   6,   0,   0,   0,   0,   0,  63,\n          0],\n       [  0,   0,   0,   0,   0,   0,   0,   0,   0,   0,   0,   0,   0,\n         25]])"
     },
     "execution_count": 487,
     "metadata": {},
     "output_type": "execute_result"
    }
   ],
   "source": [
    "cm"
   ],
   "metadata": {
    "collapsed": false,
    "ExecuteTime": {
     "start_time": "2023-08-24T08:11:56.394478Z",
     "end_time": "2023-08-24T08:11:56.476387Z"
    }
   }
  },
  {
   "cell_type": "code",
   "execution_count": 488,
   "outputs": [
    {
     "name": "stdout",
     "output_type": "stream",
     "text": [
      "[[ 26   0   0   0   0   0   0   0   0   0   0   0   0   0]\n",
      " [  2  23   0   0   0   0   0   0   0   0   0   0   0   0]\n",
      " [  0   1  22   0   0   2   0   0   0   0   0   0   0   0]\n",
      " [  2   0   0  23   0   0   0   0   0   0   0   0   0   0]\n",
      " [  2   0   0   0  73   0   0   0   0   0   0   0   0   0]\n",
      " [  0   0   1   0   0  24   0   0   0   0   0   0   0   0]\n",
      " [  3   0   0   0   0   0  72   0   0   0   0   0   0   0]\n",
      " [  2   0   0   0   0   0   0  98   0   0   0   0   0   0]\n",
      " [  0   0   0   0   0   0   0   0  21   3   1   0   0   0]\n",
      " [  0   0   0   0   0   0   0   0   0 100   0   0   0   0]\n",
      " [  2   0   0   0   0   0   0   0   0   0  98   0   0   0]\n",
      " [  0   0   0   0   0   0   0   0   0   0   0  25   0   0]\n",
      " [  6   0   0   0   0   0   6   0   0   0   0   0  63   0]\n",
      " [  0   0   0   0   0   0   0   0   0   0   0   0   0  25]]\n"
     ]
    }
   ],
   "source": [
    "print(cm)"
   ],
   "metadata": {
    "collapsed": false,
    "ExecuteTime": {
     "start_time": "2023-08-24T08:11:56.424995Z",
     "end_time": "2023-08-24T08:11:56.477031Z"
    }
   }
  },
  {
   "cell_type": "code",
   "execution_count": 489,
   "outputs": [
    {
     "data": {
      "text/plain": "<Figure size 640x480 with 2 Axes>",
      "image/png": "[encoded data removed]"
     },
     "metadata": {},
     "output_type": "display_data"
    }
   ],
   "source": [
    "classes = np.unique(y_train)\n",
    "plt.imshow(cm, interpolation='nearest', cmap=plt.cm.Blues)\n",
    "plt.title(\"Confusion Matrix\")\n",
    "plt.colorbar()\n",
    "tick_marks = np.arange(len(classes))\n",
    "plt.xticks(tick_marks, classes)\n",
    "plt.yticks(tick_marks, classes)\n",
    "plt.xticks(rotation='vertical')\n",
    "\n",
    "plt.xlabel('Vorhergesagte Klasse')\n",
    "plt.ylabel('Tatsächliche Klasse')\n",
    "plt.show()"
   ],
   "metadata": {
    "collapsed": false,
    "ExecuteTime": {
     "start_time": "2023-08-24T08:11:56.456220Z",
     "end_time": "2023-08-24T08:11:57.118583Z"
    }
   }
  },
  {
   "cell_type": "code",
   "execution_count": 490,
   "outputs": [],
   "source": [
    "pscore = precision_score(y_test, y_pred, average=None)"
   ],
   "metadata": {
    "collapsed": false,
    "ExecuteTime": {
     "start_time": "2023-08-24T08:11:57.121939Z",
     "end_time": "2023-08-24T08:11:57.131724Z"
    }
   }
  },
  {
   "cell_type": "code",
   "execution_count": 491,
   "outputs": [
    {
     "name": "stdout",
     "output_type": "stream",
     "text": [
      "- = 0.58\n",
      "mapk = 0.96\n",
      "mapk, mkk, mkkk = 0.96\n",
      "mkk = 1.0\n",
      "mkk_pp = 1.0\n",
      "mkkk = 0.92\n",
      "mkkk_p = 0.92\n",
      "mkp_mapk = 1.0\n",
      "mkp_mapk, mkp_mkk, mkp_mkkk = 1.0\n",
      "mkp_mkk = 0.97\n",
      "mkp_mkkk = 0.99\n",
      "ras = 1.0\n",
      "ras_active = 1.0\n",
      "signal_active = 1.0\n"
     ]
    }
   ],
   "source": [
    "for i , value in enumerate(pscore):\n",
    "    print(f'{classifier.classes_[i]} = {np.round(value, 2)}')"
   ],
   "metadata": {
    "collapsed": false,
    "ExecuteTime": {
     "start_time": "2023-08-24T08:11:57.146512Z",
     "end_time": "2023-08-24T08:11:57.250961Z"
    }
   }
  },
  {
   "cell_type": "code",
   "execution_count": 492,
   "outputs": [
    {
     "data": {
      "text/plain": "array(['-', 'mapk', 'mapk, mkk, mkkk', 'mkk', 'mkk_pp', 'mkkk', 'mkkk_p',\n       'mkp_mapk', 'mkp_mapk, mkp_mkk, mkp_mkkk', 'mkp_mkk', 'mkp_mkkk',\n       'ras', 'ras_active', 'signal_active'], dtype='<U27')"
     },
     "execution_count": 492,
     "metadata": {},
     "output_type": "execute_result"
    }
   ],
   "source": [
    "classifier.classes_"
   ],
   "metadata": {
    "collapsed": false,
    "ExecuteTime": {
     "start_time": "2023-08-24T08:11:57.156974Z",
     "end_time": "2023-08-24T08:11:57.251351Z"
    }
   }
  },
  {
   "cell_type": "code",
   "execution_count": 493,
   "outputs": [
    {
     "data": {
      "text/plain": "        0         1         2          3         4          5         6      \\\n0    0.337950  4.234829  0.155125  11.314876  0.429363  10.430215  0.550725   \n1    0.235457  2.874131  0.047091  11.623925  0.282548   8.742832  0.724638   \n2    0.268698  3.168123  0.047091  11.609302  0.290859   9.268821  0.692754   \n3    0.149584  2.205249  0.047091  11.639036  0.263158   8.942341  0.800000   \n4    0.116343  5.016124  0.047091  11.638070  0.210526  10.667192  0.846377   \n..        ...       ...       ...        ...       ...        ...       ...   \n721  0.274238  3.283058  0.047091  11.631050  0.315789  10.025746  0.742029   \n722  0.271468  3.279301  0.047091  11.631055  0.315789  10.032728  0.742029   \n723  0.271468  3.293310  0.047091  11.616455  0.318560   9.984424  0.753623   \n724  0.271468  3.267444  0.047091  11.623701  0.318560  10.063338  0.750725   \n725  0.271468  3.306061  0.047091  11.616455  0.318560   9.993921  0.744928   \n\n        7         8         9      ...     19990      19991     19992  \\\n0    6.707301  0.529086  2.293153  ...  0.193717  32.325291  0.655949   \n1    6.389279  0.720222  1.841362  ...  0.099476  29.783497  0.749196   \n2    6.381925  0.711911  1.862365  ...  0.115183  31.114952  0.720257   \n3    6.900367  0.745152  1.907695  ...  0.062827  21.892408  0.826367   \n4    8.130082  0.786704  2.523958  ...  0.057592  17.516121  0.858521   \n..        ...       ...       ...  ...       ...        ...       ...   \n721  5.768931  0.678670  1.996538  ...  0.230366  32.729969  0.700965   \n722  5.776064  0.678670  1.993659  ...  0.225131  32.823326  0.697749   \n723  5.859221  0.675900  2.008878  ...  0.240838  32.340828  0.697749   \n724  5.825995  0.678670  1.996924  ...  0.230366  32.710701  0.697749   \n725  5.864470  0.675900  2.005842  ...  0.235602  32.438210  0.697749   \n\n         19993     19994      19995     19996      19997     19998      19999  \n0    13.980444  0.396122  12.966604  0.494662  18.438555  0.075188  12.340940  \n1    11.882515  0.335180  15.633795  0.640569  19.299377  0.037594   6.347503  \n2    12.360096  0.321330  15.296803  0.615658  19.147697  0.045113   8.190915  \n3    11.702593  0.554017  16.938124  0.804270  16.534901  0.000000  -0.547494  \n4    17.198305  0.667590  12.809737  0.839858   1.788620  0.007519   0.779194  \n..         ...       ...        ...       ...        ...       ...        ...  \n721  13.166156  0.468144  12.461921  0.473310  10.625082  0.075188  12.492042  \n722  13.127862  0.465374  12.491852  0.473310  10.771534  0.075188  12.442073  \n723  13.324992  0.479224  12.354874  0.462633  10.093339  0.075188  12.678279  \n724  13.067831  0.470914  12.493147  0.462633  10.767132  0.075188  12.571197  \n725  13.398840  0.470914  12.377903  0.476868  10.120329  0.075188  12.551427  \n\n[726 rows x 20000 columns]",
      "text/html": "<div>\n<style scoped>\n    .dataframe tbody tr th:only-of-type {\n        vertical-align: middle;\n    }\n\n    .dataframe tbody tr th {\n        vertical-align: top;\n    }\n\n    .dataframe thead th {\n        text-align: right;\n    }\n</style>\n<table border=\"1\" class=\"dataframe\">\n  <thead>\n    <tr style=\"text-align: right;\">\n      <th></th>\n      <th>0</th>\n      <th>1</th>\n      <th>2</th>\n      <th>3</th>\n      <th>4</th>\n      <th>5</th>\n      <th>6</th>\n      <th>7</th>\n      <th>8</th>\n      <th>9</th>\n      <th>...</th>\n      <th>19990</th>\n      <th>19991</th>\n      <th>19992</th>\n      <th>19993</th>\n      <th>19994</th>\n      <th>19995</th>\n      <th>19996</th>\n      <th>19997</th>\n      <th>19998</th>\n      <th>19999</th>\n    </tr>\n  </thead>\n  <tbody>\n    <tr>\n      <th>0</th>\n      <td>0.337950</td>\n      <td>4.234829</td>\n      <td>0.155125</td>\n      <td>11.314876</td>\n      <td>0.429363</td>\n      <td>10.430215</td>\n      <td>0.550725</td>\n      <td>6.707301</td>\n      <td>0.529086</td>\n      <td>2.293153</td>\n      <td>...</td>\n      <td>0.193717</td>\n      <td>32.325291</td>\n      <td>0.655949</td>\n      <td>13.980444</td>\n      <td>0.396122</td>\n      <td>12.966604</td>\n      <td>0.494662</td>\n      <td>18.438555</td>\n      <td>0.075188</td>\n      <td>12.340940</td>\n    </tr>\n    <tr>\n      <th>1</th>\n      <td>0.235457</td>\n      <td>2.874131</td>\n      <td>0.047091</td>\n      <td>11.623925</td>\n      <td>0.282548</td>\n      <td>8.742832</td>\n      <td>0.724638</td>\n      <td>6.389279</td>\n      <td>0.720222</td>\n      <td>1.841362</td>\n      <td>...</td>\n      <td>0.099476</td>\n      <td>29.783497</td>\n      <td>0.749196</td>\n      <td>11.882515</td>\n      <td>0.335180</td>\n      <td>15.633795</td>\n      <td>0.640569</td>\n      <td>19.299377</td>\n      <td>0.037594</td>\n      <td>6.347503</td>\n    </tr>\n    <tr>\n      <th>2</th>\n      <td>0.268698</td>\n      <td>3.168123</td>\n      <td>0.047091</td>\n      <td>11.609302</td>\n      <td>0.290859</td>\n      <td>9.268821</td>\n      <td>0.692754</td>\n      <td>6.381925</td>\n      <td>0.711911</td>\n      <td>1.862365</td>\n      <td>...</td>\n      <td>0.115183</td>\n      <td>31.114952</td>\n      <td>0.720257</td>\n      <td>12.360096</td>\n      <td>0.321330</td>\n      <td>15.296803</td>\n      <td>0.615658</td>\n      <td>19.147697</td>\n      <td>0.045113</td>\n      <td>8.190915</td>\n    </tr>\n    <tr>\n      <th>3</th>\n      <td>0.149584</td>\n      <td>2.205249</td>\n      <td>0.047091</td>\n      <td>11.639036</td>\n      <td>0.263158</td>\n      <td>8.942341</td>\n      <td>0.800000</td>\n      <td>6.900367</td>\n      <td>0.745152</td>\n      <td>1.907695</td>\n      <td>...</td>\n      <td>0.062827</td>\n      <td>21.892408</td>\n      <td>0.826367</td>\n      <td>11.702593</td>\n      <td>0.554017</td>\n      <td>16.938124</td>\n      <td>0.804270</td>\n      <td>16.534901</td>\n      <td>0.000000</td>\n      <td>-0.547494</td>\n    </tr>\n    <tr>\n      <th>4</th>\n      <td>0.116343</td>\n      <td>5.016124</td>\n      <td>0.047091</td>\n      <td>11.638070</td>\n      <td>0.210526</td>\n      <td>10.667192</td>\n      <td>0.846377</td>\n      <td>8.130082</td>\n      <td>0.786704</td>\n      <td>2.523958</td>\n      <td>...</td>\n      <td>0.057592</td>\n      <td>17.516121</td>\n      <td>0.858521</td>\n      <td>17.198305</td>\n      <td>0.667590</td>\n      <td>12.809737</td>\n      <td>0.839858</td>\n      <td>1.788620</td>\n      <td>0.007519</td>\n      <td>0.779194</td>\n    </tr>\n    <tr>\n      <th>...</th>\n      <td>...</td>\n      <td>...</td>\n      <td>...</td>\n      <td>...</td>\n      <td>...</td>\n      <td>...</td>\n      <td>...</td>\n      <td>...</td>\n      <td>...</td>\n      <td>...</td>\n      <td>...</td>\n      <td>...</td>\n      <td>...</td>\n      <td>...</td>\n      <td>...</td>\n      <td>...</td>\n      <td>...</td>\n      <td>...</td>\n      <td>...</td>\n      <td>...</td>\n      <td>...</td>\n    </tr>\n    <tr>\n      <th>721</th>\n      <td>0.274238</td>\n      <td>3.283058</td>\n      <td>0.047091</td>\n      <td>11.631050</td>\n      <td>0.315789</td>\n      <td>10.025746</td>\n      <td>0.742029</td>\n      <td>5.768931</td>\n      <td>0.678670</td>\n      <td>1.996538</td>\n      <td>...</td>\n      <td>0.230366</td>\n      <td>32.729969</td>\n      <td>0.700965</td>\n      <td>13.166156</td>\n      <td>0.468144</td>\n      <td>12.461921</td>\n      <td>0.473310</td>\n      <td>10.625082</td>\n      <td>0.075188</td>\n      <td>12.492042</td>\n    </tr>\n    <tr>\n      <th>722</th>\n      <td>0.271468</td>\n      <td>3.279301</td>\n      <td>0.047091</td>\n      <td>11.631055</td>\n      <td>0.315789</td>\n      <td>10.032728</td>\n      <td>0.742029</td>\n      <td>5.776064</td>\n      <td>0.678670</td>\n      <td>1.993659</td>\n      <td>...</td>\n      <td>0.225131</td>\n      <td>32.823326</td>\n      <td>0.697749</td>\n      <td>13.127862</td>\n      <td>0.465374</td>\n      <td>12.491852</td>\n      <td>0.473310</td>\n      <td>10.771534</td>\n      <td>0.075188</td>\n      <td>12.442073</td>\n    </tr>\n    <tr>\n      <th>723</th>\n      <td>0.271468</td>\n      <td>3.293310</td>\n      <td>0.047091</td>\n      <td>11.616455</td>\n      <td>0.318560</td>\n      <td>9.984424</td>\n      <td>0.753623</td>\n      <td>5.859221</td>\n      <td>0.675900</td>\n      <td>2.008878</td>\n      <td>...</td>\n      <td>0.240838</td>\n      <td>32.340828</td>\n      <td>0.697749</td>\n      <td>13.324992</td>\n      <td>0.479224</td>\n      <td>12.354874</td>\n      <td>0.462633</td>\n      <td>10.093339</td>\n      <td>0.075188</td>\n      <td>12.678279</td>\n    </tr>\n    <tr>\n      <th>724</th>\n      <td>0.271468</td>\n      <td>3.267444</td>\n      <td>0.047091</td>\n      <td>11.623701</td>\n      <td>0.318560</td>\n      <td>10.063338</td>\n      <td>0.750725</td>\n      <td>5.825995</td>\n      <td>0.678670</td>\n      <td>1.996924</td>\n      <td>...</td>\n      <td>0.230366</td>\n      <td>32.710701</td>\n      <td>0.697749</td>\n      <td>13.067831</td>\n      <td>0.470914</td>\n      <td>12.493147</td>\n      <td>0.462633</td>\n      <td>10.767132</td>\n      <td>0.075188</td>\n      <td>12.571197</td>\n    </tr>\n    <tr>\n      <th>725</th>\n      <td>0.271468</td>\n      <td>3.306061</td>\n      <td>0.047091</td>\n      <td>11.616455</td>\n      <td>0.318560</td>\n      <td>9.993921</td>\n      <td>0.744928</td>\n      <td>5.864470</td>\n      <td>0.675900</td>\n      <td>2.005842</td>\n      <td>...</td>\n      <td>0.235602</td>\n      <td>32.438210</td>\n      <td>0.697749</td>\n      <td>13.398840</td>\n      <td>0.470914</td>\n      <td>12.377903</td>\n      <td>0.476868</td>\n      <td>10.120329</td>\n      <td>0.075188</td>\n      <td>12.551427</td>\n    </tr>\n  </tbody>\n</table>\n<p>726 rows × 20000 columns</p>\n</div>"
     },
     "execution_count": 493,
     "metadata": {},
     "output_type": "execute_result"
    }
   ],
   "source": [
    "X_test_transform"
   ],
   "metadata": {
    "collapsed": false,
    "ExecuteTime": {
     "start_time": "2023-08-24T08:11:57.165757Z",
     "end_time": "2023-08-24T08:11:57.251581Z"
    }
   }
  },
  {
   "cell_type": "code",
   "execution_count": 494,
   "outputs": [
    {
     "data": {
      "text/plain": "                MKKK        MKKK_P         MKK         MKK_P        MKK_PP  \\\nid  t_sec                                                                    \n0   0      95.603885 -2.105099e+00  285.140006  9.767289e+00 -4.084033e+00   \n    1      99.007609  1.267541e+00  298.968537 -3.403695e+00  3.977352e+00   \n    2      80.992103  1.281627e+01  297.301771  6.420255e+00 -1.105600e-02   \n    3      72.625353  2.013624e+01  292.425660 -1.717058e+00 -9.974075e-01   \n    4      58.462592  3.624270e+01  280.828871  9.003610e+00  1.559270e+00   \n...              ...           ...         ...           ...           ...   \n725 356    98.000000  4.664053e-09  292.000000 -5.825041e-11  1.749972e-18   \n    357    98.000000 -2.425207e-08  292.000000  2.940665e-10  1.786507e-18   \n    358    98.000000  1.218438e-08  292.000000 -1.498731e-10  2.013022e-18   \n    359    98.000000 -1.425452e-08  292.000000  1.722335e-10  2.177599e-18   \n    360    98.000000 -6.895127e-09  292.000000  8.254165e-11  2.065592e-18   \n\n                 MAPK    MAPK_P    MAPK_PP      Signal       Signal_A  \\\nid  t_sec                                                               \n0   0      309.739594  1.279162 -15.617732   -1.506497   1.979898e+02   \n    1      293.386610 -0.705616  -0.247959   18.082854   1.952114e+02   \n    2      301.227605 -0.376609   2.420112   19.041271   1.750555e+02   \n    3      301.999966  2.429506   5.385054   27.510627   1.599738e+02   \n    4      298.836218  7.906035   0.698516   38.368633   1.573296e+02   \n...               ...       ...        ...         ...            ...   \n725 356    292.994893  0.005073   0.000034  200.000000  5.335427e-183   \n    357    292.995636  0.004335   0.000029  200.000000  1.528649e-183   \n    358    292.996271  0.003704   0.000025  200.000000  4.379649e-184   \n    359    292.996814  0.003165   0.000021  200.000000  1.254813e-184   \n    360    292.997277  0.002705   0.000018  200.000000  3.595128e-185   \n\n                  RAS         RAS_A  \nid  t_sec                            \n0   0      102.663060 -1.380066e+01  \n    1       23.106448  7.682466e+01  \n    2       -9.641640  9.649182e+01  \n    3       -5.048185  1.066046e+02  \n    4       10.712576  8.954980e+01  \n...               ...           ...  \n725 356    100.000000 -4.056501e-07  \n    357     99.999998  2.107837e-06  \n    358    100.000001 -1.059362e-06  \n    359     99.999999  1.238785e-06  \n    360     99.999999  5.990874e-07  \n\n[262086 rows x 12 columns]",
      "text/html": "<div>\n<style scoped>\n    .dataframe tbody tr th:only-of-type {\n        vertical-align: middle;\n    }\n\n    .dataframe tbody tr th {\n        vertical-align: top;\n    }\n\n    .dataframe thead th {\n        text-align: right;\n    }\n</style>\n<table border=\"1\" class=\"dataframe\">\n  <thead>\n    <tr style=\"text-align: right;\">\n      <th></th>\n      <th></th>\n      <th>MKKK</th>\n      <th>MKKK_P</th>\n      <th>MKK</th>\n      <th>MKK_P</th>\n      <th>MKK_PP</th>\n      <th>MAPK</th>\n      <th>MAPK_P</th>\n      <th>MAPK_PP</th>\n      <th>Signal</th>\n      <th>Signal_A</th>\n      <th>RAS</th>\n      <th>RAS_A</th>\n    </tr>\n    <tr>\n      <th>id</th>\n      <th>t_sec</th>\n      <th></th>\n      <th></th>\n      <th></th>\n      <th></th>\n      <th></th>\n      <th></th>\n      <th></th>\n      <th></th>\n      <th></th>\n      <th></th>\n      <th></th>\n      <th></th>\n    </tr>\n  </thead>\n  <tbody>\n    <tr>\n      <th rowspan=\"5\" valign=\"top\">0</th>\n      <th>0</th>\n      <td>95.603885</td>\n      <td>-2.105099e+00</td>\n      <td>285.140006</td>\n      <td>9.767289e+00</td>\n      <td>-4.084033e+00</td>\n      <td>309.739594</td>\n      <td>1.279162</td>\n      <td>-15.617732</td>\n      <td>-1.506497</td>\n      <td>1.979898e+02</td>\n      <td>102.663060</td>\n      <td>-1.380066e+01</td>\n    </tr>\n    <tr>\n      <th>1</th>\n      <td>99.007609</td>\n      <td>1.267541e+00</td>\n      <td>298.968537</td>\n      <td>-3.403695e+00</td>\n      <td>3.977352e+00</td>\n      <td>293.386610</td>\n      <td>-0.705616</td>\n      <td>-0.247959</td>\n      <td>18.082854</td>\n      <td>1.952114e+02</td>\n      <td>23.106448</td>\n      <td>7.682466e+01</td>\n    </tr>\n    <tr>\n      <th>2</th>\n      <td>80.992103</td>\n      <td>1.281627e+01</td>\n      <td>297.301771</td>\n      <td>6.420255e+00</td>\n      <td>-1.105600e-02</td>\n      <td>301.227605</td>\n      <td>-0.376609</td>\n      <td>2.420112</td>\n      <td>19.041271</td>\n      <td>1.750555e+02</td>\n      <td>-9.641640</td>\n      <td>9.649182e+01</td>\n    </tr>\n    <tr>\n      <th>3</th>\n      <td>72.625353</td>\n      <td>2.013624e+01</td>\n      <td>292.425660</td>\n      <td>-1.717058e+00</td>\n      <td>-9.974075e-01</td>\n      <td>301.999966</td>\n      <td>2.429506</td>\n      <td>5.385054</td>\n      <td>27.510627</td>\n      <td>1.599738e+02</td>\n      <td>-5.048185</td>\n      <td>1.066046e+02</td>\n    </tr>\n    <tr>\n      <th>4</th>\n      <td>58.462592</td>\n      <td>3.624270e+01</td>\n      <td>280.828871</td>\n      <td>9.003610e+00</td>\n      <td>1.559270e+00</td>\n      <td>298.836218</td>\n      <td>7.906035</td>\n      <td>0.698516</td>\n      <td>38.368633</td>\n      <td>1.573296e+02</td>\n      <td>10.712576</td>\n      <td>8.954980e+01</td>\n    </tr>\n    <tr>\n      <th>...</th>\n      <th>...</th>\n      <td>...</td>\n      <td>...</td>\n      <td>...</td>\n      <td>...</td>\n      <td>...</td>\n      <td>...</td>\n      <td>...</td>\n      <td>...</td>\n      <td>...</td>\n      <td>...</td>\n      <td>...</td>\n      <td>...</td>\n    </tr>\n    <tr>\n      <th rowspan=\"5\" valign=\"top\">725</th>\n      <th>356</th>\n      <td>98.000000</td>\n      <td>4.664053e-09</td>\n      <td>292.000000</td>\n      <td>-5.825041e-11</td>\n      <td>1.749972e-18</td>\n      <td>292.994893</td>\n      <td>0.005073</td>\n      <td>0.000034</td>\n      <td>200.000000</td>\n      <td>5.335427e-183</td>\n      <td>100.000000</td>\n      <td>-4.056501e-07</td>\n    </tr>\n    <tr>\n      <th>357</th>\n      <td>98.000000</td>\n      <td>-2.425207e-08</td>\n      <td>292.000000</td>\n      <td>2.940665e-10</td>\n      <td>1.786507e-18</td>\n      <td>292.995636</td>\n      <td>0.004335</td>\n      <td>0.000029</td>\n      <td>200.000000</td>\n      <td>1.528649e-183</td>\n      <td>99.999998</td>\n      <td>2.107837e-06</td>\n    </tr>\n    <tr>\n      <th>358</th>\n      <td>98.000000</td>\n      <td>1.218438e-08</td>\n      <td>292.000000</td>\n      <td>-1.498731e-10</td>\n      <td>2.013022e-18</td>\n      <td>292.996271</td>\n      <td>0.003704</td>\n      <td>0.000025</td>\n      <td>200.000000</td>\n      <td>4.379649e-184</td>\n      <td>100.000001</td>\n      <td>-1.059362e-06</td>\n    </tr>\n    <tr>\n      <th>359</th>\n      <td>98.000000</td>\n      <td>-1.425452e-08</td>\n      <td>292.000000</td>\n      <td>1.722335e-10</td>\n      <td>2.177599e-18</td>\n      <td>292.996814</td>\n      <td>0.003165</td>\n      <td>0.000021</td>\n      <td>200.000000</td>\n      <td>1.254813e-184</td>\n      <td>99.999999</td>\n      <td>1.238785e-06</td>\n    </tr>\n    <tr>\n      <th>360</th>\n      <td>98.000000</td>\n      <td>-6.895127e-09</td>\n      <td>292.000000</td>\n      <td>8.254165e-11</td>\n      <td>2.065592e-18</td>\n      <td>292.997277</td>\n      <td>0.002705</td>\n      <td>0.000018</td>\n      <td>200.000000</td>\n      <td>3.595128e-185</td>\n      <td>99.999999</td>\n      <td>5.990874e-07</td>\n    </tr>\n  </tbody>\n</table>\n<p>262086 rows × 12 columns</p>\n</div>"
     },
     "execution_count": 494,
     "metadata": {},
     "output_type": "execute_result"
    }
   ],
   "source": [
    "X_test"
   ],
   "metadata": {
    "collapsed": false,
    "ExecuteTime": {
     "start_time": "2023-08-24T08:11:57.207286Z",
     "end_time": "2023-08-24T08:11:57.252067Z"
    }
   }
  },
  {
   "cell_type": "code",
   "execution_count": 495,
   "outputs": [
    {
     "name": "stdout",
     "output_type": "stream",
     "text": [
      "- = 0.578\n",
      "mapk = 0.958\n",
      "mapk, mkk, mkkk = 0.957\n",
      "mkk = 1.0\n",
      "mkk_pp = 1.0\n",
      "mkkk = 0.923\n",
      "mkkk_p = 0.923\n",
      "mkp_mapk = 1.0\n",
      "mkp_mapk, mkp_mkk, mkp_mkkk = 1.0\n",
      "mkp_mkk = 0.971\n",
      "mkp_mkkk = 0.99\n",
      "ras = 1.0\n",
      "ras_active = 1.0\n",
      "signal_active = 1.0\n"
     ]
    },
    {
     "name": "stderr",
     "output_type": "stream",
     "text": [
      "/var/folders/b4/pcdvhyhx15vb8w5sq0k6wz980000gn/T/ipykernel_11730/2299570533.py:1: FutureWarning: The default dtype for empty Series will be 'object' instead of 'float64' in a future version. Specify a dtype explicitly to silence this warning.\n",
      "  solutiondf = pd.Series()\n"
     ]
    }
   ],
   "source": [
    "solutiondf = pd.Series()\n",
    "solutiondf['name'] = name\n",
    "for i , value in enumerate(precision_score(y_test, y_pred, average=None)):\n",
    "    print(f'{classifier.classes_[i]} = {np.round(value, 3)}')\n",
    "    solutiondf[classifier.classes_[i]] = np.round(value, 3)\n",
    "solutiondf['acc'] = np.round(classifier.score(X_test_transform, y_test), 3)\n",
    "runtime = end_time - start_time\n",
    "minutes_difference = runtime.total_seconds() / 60\n",
    "solutiondf['time'] = np.round(minutes_difference, 3)\n",
    "solutiondf['cm'] = cm\n",
    "solutiondf['type'] = 'rocket'\n",
    "solutiondf['y'] = y_pred\n",
    "solutiondf = pd.DataFrame([solutiondf])\n",
    "output_folder = os.path.join('solutions', 'rocket')\n",
    "if not os.path.exists(output_folder):\n",
    "    os.makedirs(output_folder)\n",
    "path = os.path.join(output_folder, f'{name}.csv')\n",
    "# solutiondf.to_csv(path, mode='w', header=True)"
   ],
   "metadata": {
    "collapsed": false,
    "ExecuteTime": {
     "start_time": "2023-08-24T08:11:57.249335Z",
     "end_time": "2023-08-24T08:11:58.921286Z"
    }
   }
  },
  {
   "cell_type": "code",
   "execution_count": 496,
   "outputs": [
    {
     "name": "stdout",
     "output_type": "stream",
     "text": [
      "                       name      -   mapk  mapk, mkk, mkkk  mkk  mkk_pp  \\\n",
      "0  mapk361_n25_inh0_nonoise  0.578  0.958            0.957  1.0     1.0   \n",
      "\n",
      "    mkkk  mkkk_p  mkp_mapk  mkp_mapk, mkp_mkk, mkp_mkkk  mkp_mkk  mkp_mkkk  \\\n",
      "0  0.923   0.923       1.0                          1.0    0.971      0.99   \n",
      "\n",
      "   ras  ras_active  signal_active    acc   time  \\\n",
      "0  1.0         1.0            1.0  0.955  2.432   \n",
      "\n",
      "                                                  cm    type  \\\n",
      "0  [[26, 0, 0, 0, 0, 0, 0, 0, 0, 0, 0, 0, 0, 0], ...  rocket   \n",
      "\n",
      "                                                   y  \n",
      "0  [-, mapk, mkk, mkkk, mapk, mkk, mkkk, mapk, mk...  \n"
     ]
    }
   ],
   "source": [
    "print(solutiondf)"
   ],
   "metadata": {
    "collapsed": false,
    "ExecuteTime": {
     "start_time": "2023-08-24T08:11:58.649620Z",
     "end_time": "2023-08-24T08:11:58.921620Z"
    }
   }
  },
  {
   "cell_type": "code",
   "execution_count": 496,
   "outputs": [],
   "source": [],
   "metadata": {
    "collapsed": false,
    "ExecuteTime": {
     "start_time": "2023-08-24T08:11:58.687748Z",
     "end_time": "2023-08-24T08:11:58.921737Z"
    }
   }
  }
 ],
 "metadata": {
  "kernelspec": {
   "display_name": "Python 3",
   "language": "python",
   "name": "python3"
  },
  "language_info": {
   "codemirror_mode": {
    "name": "ipython",
    "version": 2
   },
   "file_extension": ".py",
   "mimetype": "text/x-python",
   "name": "python",
   "nbconvert_exporter": "python",
   "pygments_lexer": "ipython2",
   "version": "2.7.6"
  }
 },
 "nbformat": 4,
 "nbformat_minor": 0
}
