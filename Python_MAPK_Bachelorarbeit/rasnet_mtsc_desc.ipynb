{
 "cells": [
  {
   "cell_type": "code",
   "execution_count": null,
   "metadata": {
    "collapsed": true,
    "ExecuteTime": {
     "start_time": "2023-08-25T12:14:55.838044Z",
     "end_time": "2023-08-25T12:14:55.844238Z"
    }
   },
   "outputs": [],
   "source": []
  },
  {
   "cell_type": "code",
   "execution_count": 1,
   "outputs": [],
   "source": [
    "import seaborn as sns\n",
    "import pandas as pd\n",
    "import numpy as np\n",
    "import os\n",
    "import datetime\n",
    "from dataclasses import dataclass, field\n",
    "\n",
    "from sklearn.linear_model import RidgeClassifierCV\n",
    "from sklearn.pipeline import make_pipeline\n",
    "\n",
    "from sktime.transformations.panel.rocket import Rocket\n",
    "from sklearn.model_selection import GridSearchCV\n",
    "from sktime.classification.deep_learning.resnet import ResNetClassifier\n",
    "from sktime.forecasting.model_selection import temporal_train_test_split\n",
    "\n",
    "from sklearn.model_selection import train_test_split\n",
    "\n",
    "import matplotlib.pyplot as plt\n",
    "from sklearn.metrics import confusion_matrix\n",
    "from sklearn.metrics import precision_score\n",
    "\n",
    "from sktime import datatypes\n",
    "\n"
   ],
   "metadata": {
    "collapsed": false,
    "ExecuteTime": {
     "start_time": "2023-08-25T12:14:55.846440Z",
     "end_time": "2023-08-25T12:14:57.249011Z"
    }
   }
  },
  {
   "cell_type": "code",
   "execution_count": 2,
   "outputs": [],
   "source": [
    "def gen_labellist(columns):\n",
    "    global df\n",
    "    label_list =[]\n",
    "    for value, group_df in df.groupby(level='id'):\n",
    "        inner = []\n",
    "        for col in columns.split(','):\n",
    "            id_series = group_df[col]\n",
    "            first_element = id_series.iloc[0]\n",
    "            inner.append(first_element)\n",
    "        label_list.append(inner)\n",
    "    label_list = np.array(label_list)\n",
    "    for col in columns.split(','):\n",
    "        df = df.drop(col, axis=1)\n",
    "    return label_list\n",
    "\n",
    "def gen_labellist_test(columns):\n",
    "    global test\n",
    "    label_list =[]\n",
    "    for value, group_df in test.groupby(level='id'):\n",
    "        inner = []\n",
    "        for col in columns.split(','):\n",
    "            id_series = group_df[col]\n",
    "            first_element = id_series.iloc[0]\n",
    "            inner.append(first_element)\n",
    "        label_list.append(inner)\n",
    "    label_list = np.array(label_list)\n",
    "    for col in columns.split(','):\n",
    "        test = test.drop(col, axis=1)\n",
    "    return label_list\n",
    "\n",
    "def dataframe_rocket(df):\n",
    "    nested_dict = {}\n",
    "    for time, group_df in df.groupby(level='t_sec'):\n",
    "        enzyme_dict = {}\n",
    "        for column_name in df.columns:\n",
    "            xs = df.xs(time, level='t_sec')[column_name]\n",
    "            enzyme_dict[column_name] = xs\n",
    "        nested_dict[time] = enzyme_dict\n",
    "    dataframe = pd.DataFrame(nested_dict)\n",
    "    dataframe = dataframe.transpose()\n",
    "    return dataframe\n",
    "\n",
    "def gen_3d_nparray(df):\n",
    "    d3_array = []\n",
    "    for value, group_df in df.groupby(level='id'):\n",
    "        inner_array = []\n",
    "        for col in df.columns:\n",
    "            inner = np.array(group_df[col])\n",
    "            inner_array.append(inner)\n",
    "        inner_nparray = np.array(inner_array)\n",
    "        d3_array.append(inner_nparray)\n",
    "    d3_nparray = np.array(d3_array)\n",
    "    return d3_nparray"
   ],
   "metadata": {
    "collapsed": false,
    "ExecuteTime": {
     "start_time": "2023-08-25T12:14:57.259153Z",
     "end_time": "2023-08-25T12:14:57.263123Z"
    }
   }
  },
  {
   "cell_type": "code",
   "execution_count": 3,
   "outputs": [],
   "source": [
    "start_time = datetime.datetime.now()"
   ],
   "metadata": {
    "collapsed": false,
    "ExecuteTime": {
     "start_time": "2023-08-25T12:14:57.264703Z",
     "end_time": "2023-08-25T12:14:57.272609Z"
    }
   }
  },
  {
   "cell_type": "code",
   "execution_count": 4,
   "outputs": [
    {
     "name": "stderr",
     "output_type": "stream",
     "text": [
      "/var/folders/b4/pcdvhyhx15vb8w5sq0k6wz980000gn/T/ipykernel_58499/277398311.py:2: DtypeWarning: Columns (4) have mixed types. Specify dtype option on import or set low_memory=False.\n",
      "  df = pd.read_csv('dataset_mapk361_n100_train.csv', sep=',',\n"
     ]
    }
   ],
   "source": [
    "name = 'dataset_mapk361_n100_2'\n",
    "df = pd.read_csv('dataset_mapk361_n100_train.csv', sep=',',\n",
    "                 index_col=['id', 't_sec'])\n",
    "status_array = gen_labellist('desc')\n",
    "df = df.drop('status', axis=1)\n",
    "df = df.drop('inhibition', axis=1)\n",
    "df = df.drop('inh_strength', axis=1)\n",
    "new_level2 = pd.RangeIndex(start=0, stop=len(df), step=1)\n",
    "df.index = df.index.set_levels(new_level2, level='t_sec')"
   ],
   "metadata": {
    "collapsed": false,
    "ExecuteTime": {
     "start_time": "2023-08-25T12:14:57.286070Z",
     "end_time": "2023-08-25T12:15:01.197976Z"
    }
   }
  },
  {
   "cell_type": "code",
   "execution_count": 5,
   "outputs": [
    {
     "name": "stderr",
     "output_type": "stream",
     "text": [
      "/var/folders/b4/pcdvhyhx15vb8w5sq0k6wz980000gn/T/ipykernel_58499/3013419197.py:1: DtypeWarning: Columns (6) have mixed types. Specify dtype option on import or set low_memory=False.\n",
      "  test = pd.read_csv('dataset_mapk361_n100_test.csv', sep=',',\n"
     ]
    }
   ],
   "source": [
    "test = pd.read_csv('dataset_mapk361_n100_test.csv', sep=',',\n",
    "                 index_col=['id', 't_sec'])\n",
    "test.index = test.index.set_levels(new_level2, level='t_sec')\n",
    "status_array_test = gen_labellist_test('desc')\n",
    "test = test.drop('status', axis=1)\n",
    "test = test.drop('inhibition', axis=1)\n",
    "test = test.drop('inh_strength', axis=1)"
   ],
   "metadata": {
    "collapsed": false,
    "ExecuteTime": {
     "start_time": "2023-08-25T12:15:01.205667Z",
     "end_time": "2023-08-25T12:15:05.118877Z"
    }
   }
  },
  {
   "cell_type": "code",
   "execution_count": 6,
   "outputs": [
    {
     "data": {
      "text/plain": "(1047261, 13)"
     },
     "execution_count": 6,
     "metadata": {},
     "output_type": "execute_result"
    }
   ],
   "source": [
    "test.shape"
   ],
   "metadata": {
    "collapsed": false,
    "ExecuteTime": {
     "start_time": "2023-08-25T12:15:05.125730Z",
     "end_time": "2023-08-25T12:15:05.135076Z"
    }
   }
  },
  {
   "cell_type": "code",
   "execution_count": 7,
   "outputs": [
    {
     "data": {
      "text/plain": "(1047261, 12)"
     },
     "execution_count": 7,
     "metadata": {},
     "output_type": "execute_result"
    }
   ],
   "source": [
    "df.shape"
   ],
   "metadata": {
    "collapsed": false,
    "ExecuteTime": {
     "start_time": "2023-08-25T12:15:05.133313Z",
     "end_time": "2023-08-25T12:15:05.200641Z"
    }
   }
  },
  {
   "cell_type": "code",
   "execution_count": 8,
   "outputs": [],
   "source": [
    "data = (df, status_array)"
   ],
   "metadata": {
    "collapsed": false,
    "ExecuteTime": {
     "start_time": "2023-08-25T12:15:05.152749Z",
     "end_time": "2023-08-25T12:15:05.230832Z"
    }
   }
  },
  {
   "cell_type": "code",
   "execution_count": 9,
   "outputs": [],
   "source": [
    "# X_train, X_test, y_train, y_test = temporal_train_test_split(X, y, test_size=0.3)\n",
    "# X_train, X_test, y_train, y_test = train_test_split(X, y, test_size=0.2, random_state=42)\n",
    "X_train = df\n",
    "y_train =np.array([status_array[i][0] for i, val in enumerate(status_array)])\n",
    "X_test = test\n",
    "y_test = np.array([status_array_test[i][0] for i, val in enumerate(status_array_test)])"
   ],
   "metadata": {
    "collapsed": false,
    "ExecuteTime": {
     "start_time": "2023-08-25T12:15:05.179266Z",
     "end_time": "2023-08-25T12:15:05.239351Z"
    }
   }
  },
  {
   "cell_type": "code",
   "execution_count": 10,
   "outputs": [
    {
     "name": "stderr",
     "output_type": "stream",
     "text": [
      "2023-08-25 12:15:05.235997: I tensorflow/core/platform/cpu_feature_guard.cc:193] This TensorFlow binary is optimized with oneAPI Deep Neural Network Library (oneDNN) to use the following CPU instructions in performance-critical operations:  AVX2 FMA\n",
      "To enable them in other operations, rebuild TensorFlow with the appropriate compiler flags.\n"
     ]
    }
   ],
   "source": [
    "classifier = ResNetClassifier(n_epochs=300, verbose=True )"
   ],
   "metadata": {
    "collapsed": false,
    "ExecuteTime": {
     "start_time": "2023-08-25T12:15:05.197464Z",
     "end_time": "2023-08-25T12:15:16.122577Z"
    }
   }
  },
  {
   "cell_type": "code",
   "execution_count": 10,
   "outputs": [],
   "source": [],
   "metadata": {
    "collapsed": false,
    "ExecuteTime": {
     "start_time": "2023-08-25T12:15:16.125185Z",
     "end_time": "2023-08-25T12:15:16.130920Z"
    }
   }
  },
  {
   "cell_type": "code",
   "execution_count": 11,
   "outputs": [],
   "source": [
    "weight = {'g': 1000, 'k': 1}"
   ],
   "metadata": {
    "collapsed": false,
    "ExecuteTime": {
     "start_time": "2023-08-25T12:15:16.132073Z",
     "end_time": "2023-08-25T12:15:16.139127Z"
    }
   }
  },
  {
   "cell_type": "code",
   "execution_count": 11,
   "outputs": [],
   "source": [],
   "metadata": {
    "collapsed": false,
    "ExecuteTime": {
     "start_time": "2023-08-25T12:15:16.140249Z",
     "end_time": "2023-08-25T12:15:16.159615Z"
    }
   }
  },
  {
   "cell_type": "code",
   "execution_count": null,
   "outputs": [
    {
     "name": "stderr",
     "output_type": "stream",
     "text": [
      "2023-08-25 12:15:16.366402: I tensorflow/core/platform/cpu_feature_guard.cc:193] This TensorFlow binary is optimized with oneAPI Deep Neural Network Library (oneDNN) to use the following CPU instructions in performance-critical operations:  AVX2 FMA\n",
      "To enable them in other operations, rebuild TensorFlow with the appropriate compiler flags.\n"
     ]
    },
    {
     "name": "stdout",
     "output_type": "stream",
     "text": [
      "Model: \"model\"\n",
      "__________________________________________________________________________________________________\n",
      " Layer (type)                   Output Shape         Param #     Connected to                     \n",
      "==================================================================================================\n",
      " input_1 (InputLayer)           [(None, 361, 12)]    0           []                               \n",
      "                                                                                                  \n",
      " conv1d (Conv1D)                (None, 361, 64)      6208        ['input_1[0][0]']                \n",
      "                                                                                                  \n",
      " batch_normalization (BatchNorm  (None, 361, 64)     256         ['conv1d[0][0]']                 \n",
      " alization)                                                                                       \n",
      "                                                                                                  \n",
      " activation (Activation)        (None, 361, 64)      0           ['batch_normalization[0][0]']    \n",
      "                                                                                                  \n",
      " conv1d_1 (Conv1D)              (None, 361, 64)      20544       ['activation[0][0]']             \n",
      "                                                                                                  \n",
      " batch_normalization_1 (BatchNo  (None, 361, 64)     256         ['conv1d_1[0][0]']               \n",
      " rmalization)                                                                                     \n",
      "                                                                                                  \n",
      " activation_1 (Activation)      (None, 361, 64)      0           ['batch_normalization_1[0][0]']  \n",
      "                                                                                                  \n",
      " conv1d_3 (Conv1D)              (None, 361, 64)      832         ['input_1[0][0]']                \n",
      "                                                                                                  \n",
      " conv1d_2 (Conv1D)              (None, 361, 64)      12352       ['activation_1[0][0]']           \n",
      "                                                                                                  \n",
      " batch_normalization_3 (BatchNo  (None, 361, 64)     256         ['conv1d_3[0][0]']               \n",
      " rmalization)                                                                                     \n",
      "                                                                                                  \n",
      " batch_normalization_2 (BatchNo  (None, 361, 64)     256         ['conv1d_2[0][0]']               \n",
      " rmalization)                                                                                     \n",
      "                                                                                                  \n",
      " add (Add)                      (None, 361, 64)      0           ['batch_normalization_3[0][0]',  \n",
      "                                                                  'batch_normalization_2[0][0]']  \n",
      "                                                                                                  \n",
      " activation_2 (Activation)      (None, 361, 64)      0           ['add[0][0]']                    \n",
      "                                                                                                  \n",
      " conv1d_4 (Conv1D)              (None, 361, 128)     65664       ['activation_2[0][0]']           \n",
      "                                                                                                  \n",
      " batch_normalization_4 (BatchNo  (None, 361, 128)    512         ['conv1d_4[0][0]']               \n",
      " rmalization)                                                                                     \n",
      "                                                                                                  \n",
      " activation_3 (Activation)      (None, 361, 128)     0           ['batch_normalization_4[0][0]']  \n",
      "                                                                                                  \n",
      " conv1d_5 (Conv1D)              (None, 361, 128)     82048       ['activation_3[0][0]']           \n",
      "                                                                                                  \n",
      " batch_normalization_5 (BatchNo  (None, 361, 128)    512         ['conv1d_5[0][0]']               \n",
      " rmalization)                                                                                     \n",
      "                                                                                                  \n",
      " activation_4 (Activation)      (None, 361, 128)     0           ['batch_normalization_5[0][0]']  \n",
      "                                                                                                  \n",
      " conv1d_7 (Conv1D)              (None, 361, 128)     8320        ['activation_2[0][0]']           \n",
      "                                                                                                  \n",
      " conv1d_6 (Conv1D)              (None, 361, 128)     49280       ['activation_4[0][0]']           \n",
      "                                                                                                  \n",
      " batch_normalization_7 (BatchNo  (None, 361, 128)    512         ['conv1d_7[0][0]']               \n",
      " rmalization)                                                                                     \n",
      "                                                                                                  \n",
      " batch_normalization_6 (BatchNo  (None, 361, 128)    512         ['conv1d_6[0][0]']               \n",
      " rmalization)                                                                                     \n",
      "                                                                                                  \n",
      " add_1 (Add)                    (None, 361, 128)     0           ['batch_normalization_7[0][0]',  \n",
      "                                                                  'batch_normalization_6[0][0]']  \n",
      "                                                                                                  \n",
      " activation_5 (Activation)      (None, 361, 128)     0           ['add_1[0][0]']                  \n",
      "                                                                                                  \n",
      " conv1d_8 (Conv1D)              (None, 361, 128)     131200      ['activation_5[0][0]']           \n",
      "                                                                                                  \n",
      " batch_normalization_8 (BatchNo  (None, 361, 128)    512         ['conv1d_8[0][0]']               \n",
      " rmalization)                                                                                     \n",
      "                                                                                                  \n",
      " activation_6 (Activation)      (None, 361, 128)     0           ['batch_normalization_8[0][0]']  \n",
      "                                                                                                  \n",
      " conv1d_9 (Conv1D)              (None, 361, 128)     82048       ['activation_6[0][0]']           \n",
      "                                                                                                  \n",
      " batch_normalization_9 (BatchNo  (None, 361, 128)    512         ['conv1d_9[0][0]']               \n",
      " rmalization)                                                                                     \n",
      "                                                                                                  \n",
      " activation_7 (Activation)      (None, 361, 128)     0           ['batch_normalization_9[0][0]']  \n",
      "                                                                                                  \n",
      " conv1d_10 (Conv1D)             (None, 361, 128)     49280       ['activation_7[0][0]']           \n",
      "                                                                                                  \n",
      " batch_normalization_11 (BatchN  (None, 361, 128)    512         ['activation_5[0][0]']           \n",
      " ormalization)                                                                                    \n",
      "                                                                                                  \n",
      " batch_normalization_10 (BatchN  (None, 361, 128)    512         ['conv1d_10[0][0]']              \n",
      " ormalization)                                                                                    \n",
      "                                                                                                  \n",
      " add_2 (Add)                    (None, 361, 128)     0           ['batch_normalization_11[0][0]', \n",
      "                                                                  'batch_normalization_10[0][0]'] \n",
      "                                                                                                  \n",
      " activation_8 (Activation)      (None, 361, 128)     0           ['add_2[0][0]']                  \n",
      "                                                                                                  \n",
      " global_average_pooling1d (Glob  (None, 128)         0           ['activation_8[0][0]']           \n",
      " alAveragePooling1D)                                                                              \n",
      "                                                                                                  \n",
      " dense (Dense)                  (None, 14)           1806        ['global_average_pooling1d[0][0]'\n",
      "                                                                 ]                                \n",
      "                                                                                                  \n",
      "==================================================================================================\n",
      "Total params: 514,702\n",
      "Trainable params: 512,142\n",
      "Non-trainable params: 2,560\n",
      "__________________________________________________________________________________________________\n",
      "Epoch 1/300\n",
      "182/182 [==============================] - 101s 534ms/step - loss: 1.1692 - accuracy: 0.6136\n",
      "Epoch 2/300\n",
      "182/182 [==============================] - 65s 356ms/step - loss: 0.7492 - accuracy: 0.7735\n",
      "Epoch 3/300\n",
      "182/182 [==============================] - 101s 556ms/step - loss: 0.6339 - accuracy: 0.8052\n",
      "Epoch 4/300\n",
      "182/182 [==============================] - 114s 625ms/step - loss: 0.6104 - accuracy: 0.8073\n",
      "Epoch 5/300\n",
      "182/182 [==============================] - 99s 542ms/step - loss: 0.5379 - accuracy: 0.8273\n",
      "Epoch 6/300\n",
      "182/182 [==============================] - 90s 494ms/step - loss: 0.5566 - accuracy: 0.8201\n",
      "Epoch 7/300\n",
      "182/182 [==============================] - 80s 438ms/step - loss: 0.5300 - accuracy: 0.8342\n",
      "Epoch 8/300\n",
      "182/182 [==============================] - 78s 430ms/step - loss: 0.4956 - accuracy: 0.8438\n",
      "Epoch 9/300\n",
      "182/182 [==============================] - 77s 425ms/step - loss: 0.5107 - accuracy: 0.8411\n",
      "Epoch 10/300\n",
      "182/182 [==============================] - 75s 414ms/step - loss: 0.4889 - accuracy: 0.8449\n",
      "Epoch 11/300\n",
      "182/182 [==============================] - 69s 381ms/step - loss: 0.4618 - accuracy: 0.8535\n",
      "Epoch 12/300\n",
      "182/182 [==============================] - 65s 355ms/step - loss: 0.4598 - accuracy: 0.8463\n",
      "Epoch 13/300\n",
      "182/182 [==============================] - 66s 365ms/step - loss: 0.4709 - accuracy: 0.8535\n",
      "Epoch 14/300\n",
      "182/182 [==============================] - 63s 348ms/step - loss: 0.4345 - accuracy: 0.8642\n",
      "Epoch 15/300\n",
      "182/182 [==============================] - 63s 346ms/step - loss: 0.4400 - accuracy: 0.8642\n",
      "Epoch 16/300\n",
      "182/182 [==============================] - 64s 349ms/step - loss: 0.4329 - accuracy: 0.8580\n",
      "Epoch 17/300\n",
      "182/182 [==============================] - 64s 351ms/step - loss: 0.4404 - accuracy: 0.8556\n",
      "Epoch 18/300\n",
      "182/182 [==============================] - 67s 370ms/step - loss: 0.4330 - accuracy: 0.8632\n",
      "Epoch 19/300\n",
      "182/182 [==============================] - 66s 361ms/step - loss: 0.4391 - accuracy: 0.8576\n",
      "Epoch 20/300\n",
      "182/182 [==============================] - 64s 351ms/step - loss: 0.4280 - accuracy: 0.8632\n",
      "Epoch 21/300\n",
      "182/182 [==============================] - 63s 347ms/step - loss: 0.4120 - accuracy: 0.8728\n",
      "Epoch 22/300\n",
      "182/182 [==============================] - 68s 374ms/step - loss: 0.4221 - accuracy: 0.8680\n",
      "Epoch 23/300\n",
      "182/182 [==============================] - 65s 355ms/step - loss: 0.3961 - accuracy: 0.8721\n",
      "Epoch 24/300\n",
      "182/182 [==============================] - 64s 349ms/step - loss: 0.4154 - accuracy: 0.8652\n",
      "Epoch 25/300\n",
      "182/182 [==============================] - 63s 347ms/step - loss: 0.3974 - accuracy: 0.8731\n",
      "Epoch 26/300\n",
      "182/182 [==============================] - 63s 349ms/step - loss: 0.4324 - accuracy: 0.8669\n",
      "Epoch 27/300\n",
      "182/182 [==============================] - 63s 344ms/step - loss: 0.3974 - accuracy: 0.8731\n",
      "Epoch 28/300\n",
      "182/182 [==============================] - 62s 342ms/step - loss: 0.3955 - accuracy: 0.8745\n",
      "Epoch 29/300\n",
      "182/182 [==============================] - 63s 348ms/step - loss: 0.3881 - accuracy: 0.8762\n",
      "Epoch 30/300\n",
      "182/182 [==============================] - 53s 292ms/step - loss: 0.3777 - accuracy: 0.8759\n",
      "Epoch 31/300\n",
      "182/182 [==============================] - 48s 266ms/step - loss: 0.3939 - accuracy: 0.8735\n",
      "Epoch 32/300\n",
      "182/182 [==============================] - 48s 266ms/step - loss: 0.3681 - accuracy: 0.8818\n",
      "Epoch 33/300\n",
      "182/182 [==============================] - 46s 250ms/step - loss: 0.3835 - accuracy: 0.8790\n",
      "Epoch 34/300\n",
      "182/182 [==============================] - 46s 252ms/step - loss: 0.3971 - accuracy: 0.8745\n",
      "Epoch 35/300\n",
      "182/182 [==============================] - 46s 251ms/step - loss: 0.3881 - accuracy: 0.8718\n",
      "Epoch 36/300\n",
      "182/182 [==============================] - 46s 253ms/step - loss: 0.3916 - accuracy: 0.8756\n",
      "Epoch 37/300\n",
      "182/182 [==============================] - 46s 251ms/step - loss: 0.3656 - accuracy: 0.8862\n",
      "Epoch 38/300\n",
      "182/182 [==============================] - 58s 322ms/step - loss: 0.3886 - accuracy: 0.8762\n",
      "Epoch 39/300\n",
      "182/182 [==============================] - 62s 343ms/step - loss: 0.3687 - accuracy: 0.8835\n",
      "Epoch 40/300\n",
      "182/182 [==============================] - 62s 339ms/step - loss: 0.3683 - accuracy: 0.8807\n",
      "Epoch 41/300\n",
      "182/182 [==============================] - 62s 340ms/step - loss: 0.3744 - accuracy: 0.8780\n",
      "Epoch 42/300\n",
      "182/182 [==============================] - 63s 344ms/step - loss: 0.3569 - accuracy: 0.8828\n",
      "Epoch 43/300\n",
      "182/182 [==============================] - 67s 369ms/step - loss: 0.3654 - accuracy: 0.8825\n",
      "Epoch 44/300\n",
      "182/182 [==============================] - 62s 342ms/step - loss: 0.3649 - accuracy: 0.8825\n",
      "Epoch 45/300\n",
      "182/182 [==============================] - 63s 343ms/step - loss: 0.3580 - accuracy: 0.8818\n",
      "Epoch 46/300\n",
      "182/182 [==============================] - 62s 341ms/step - loss: 0.3668 - accuracy: 0.8876\n",
      "Epoch 47/300\n",
      "182/182 [==============================] - 63s 348ms/step - loss: 0.3591 - accuracy: 0.8825\n",
      "Epoch 48/300\n",
      "182/182 [==============================] - 63s 346ms/step - loss: 0.3711 - accuracy: 0.8811\n",
      "Epoch 49/300\n",
      "182/182 [==============================] - 62s 341ms/step - loss: 0.3495 - accuracy: 0.8849\n",
      "Epoch 50/300\n",
      "182/182 [==============================] - 62s 338ms/step - loss: 0.3561 - accuracy: 0.8825\n",
      "Epoch 51/300\n",
      "182/182 [==============================] - 61s 337ms/step - loss: 0.3422 - accuracy: 0.8893\n",
      "Epoch 52/300\n",
      "182/182 [==============================] - 67s 366ms/step - loss: 0.3452 - accuracy: 0.8869\n",
      "Epoch 53/300\n",
      "182/182 [==============================] - 61s 335ms/step - loss: 0.3455 - accuracy: 0.8887\n",
      "Epoch 54/300\n",
      "182/182 [==============================] - 62s 342ms/step - loss: 0.3478 - accuracy: 0.8856\n",
      "Epoch 55/300\n",
      "182/182 [==============================] - 62s 340ms/step - loss: 0.3596 - accuracy: 0.8835\n",
      "Epoch 56/300\n",
      "182/182 [==============================] - 61s 334ms/step - loss: 0.3477 - accuracy: 0.8893\n",
      "Epoch 57/300\n",
      "182/182 [==============================] - 100s 550ms/step - loss: 0.3352 - accuracy: 0.8914\n",
      "Epoch 58/300\n",
      "182/182 [==============================] - 81s 446ms/step - loss: 0.3347 - accuracy: 0.8918\n",
      "Epoch 59/300\n",
      "182/182 [==============================] - 81s 445ms/step - loss: 0.3244 - accuracy: 0.8987\n",
      "Epoch 60/300\n",
      "142/182 [======================>.......] - ETA: 17s - loss: 0.3364 - accuracy: 0.8851"
     ]
    }
   ],
   "source": [
    "classifier.fit(X_train, y_train)\n",
    "classifier.score(X_test,y_test)"
   ],
   "metadata": {
    "collapsed": false,
    "ExecuteTime": {
     "start_time": "2023-08-23T01:13:31.757098Z",
     "end_time": "2023-08-23T02:30:01.843229Z"
    }
   }
  },
  {
   "cell_type": "code",
   "execution_count": null,
   "outputs": [],
   "source": [
    "y_pred = classifier.predict(X_test)"
   ],
   "metadata": {
    "collapsed": false,
    "ExecuteTime": {
     "start_time": "2023-08-23T02:30:01.850053Z",
     "end_time": "2023-08-23T02:30:05.310517Z"
    }
   }
  },
  {
   "cell_type": "code",
   "execution_count": null,
   "outputs": [],
   "source": [
    "print(y_pred)"
   ],
   "metadata": {
    "collapsed": false,
    "ExecuteTime": {
     "start_time": "2023-08-23T19:44:12.177906Z",
     "end_time": "2023-08-23T19:44:12.206652Z"
    }
   }
  },
  {
   "cell_type": "code",
   "execution_count": null,
   "outputs": [],
   "source": [
    "print(y_test)"
   ],
   "metadata": {
    "collapsed": false,
    "ExecuteTime": {
     "start_time": "2023-08-23T19:46:43.748181Z",
     "end_time": "2023-08-23T19:46:43.768444Z"
    }
   }
  },
  {
   "cell_type": "code",
   "execution_count": null,
   "outputs": [],
   "source": [],
   "metadata": {
    "collapsed": false
   }
  },
  {
   "cell_type": "code",
   "execution_count": null,
   "outputs": [],
   "source": [
    "end_time = datetime.datetime.now()"
   ],
   "metadata": {
    "collapsed": false,
    "ExecuteTime": {
     "start_time": "2023-08-23T02:30:05.314269Z",
     "end_time": "2023-08-23T02:30:05.317566Z"
    }
   }
  },
  {
   "cell_type": "code",
   "execution_count": null,
   "outputs": [],
   "source": [],
   "metadata": {
    "collapsed": false,
    "ExecuteTime": {
     "start_time": "2023-08-23T02:30:05.319931Z",
     "end_time": "2023-08-23T02:30:05.323621Z"
    }
   }
  },
  {
   "cell_type": "code",
   "execution_count": null,
   "outputs": [],
   "source": [
    "cm = confusion_matrix(y_test, y_pred)"
   ],
   "metadata": {
    "collapsed": false,
    "ExecuteTime": {
     "start_time": "2023-08-23T02:30:05.328683Z",
     "end_time": "2023-08-23T02:30:05.344228Z"
    }
   }
  },
  {
   "cell_type": "code",
   "execution_count": null,
   "outputs": [],
   "source": [
    "cm"
   ],
   "metadata": {
    "collapsed": false,
    "ExecuteTime": {
     "start_time": "2023-08-23T17:28:54.851347Z",
     "end_time": "2023-08-23T17:28:54.880950Z"
    }
   }
  },
  {
   "cell_type": "code",
   "execution_count": null,
   "outputs": [],
   "source": [],
   "metadata": {
    "collapsed": false
   }
  },
  {
   "cell_type": "code",
   "execution_count": null,
   "outputs": [],
   "source": [
    "classes = classifier.classes_\n",
    "plt.imshow(cm, interpolation='nearest', cmap=plt.cm.Blues)\n",
    "plt.title(\"Confusion Matrix\")\n",
    "plt.colorbar()\n",
    "tick_marks = np.arange(len(classes))\n",
    "plt.xticks(tick_marks, classes)\n",
    "plt.yticks(tick_marks, classes)\n",
    "plt.xticks(rotation='vertical')\n",
    "\n",
    "plt.xlabel('Vorhergesagte Klasse')\n",
    "plt.ylabel('Tatsächliche Klasse')\n",
    "plt.show()"
   ],
   "metadata": {
    "collapsed": false,
    "ExecuteTime": {
     "start_time": "2023-08-23T20:58:10.691925Z",
     "end_time": "2023-08-23T20:58:11.905105Z"
    }
   }
  },
  {
   "cell_type": "code",
   "execution_count": null,
   "outputs": [],
   "source": [
    "n = 0\n",
    "m = 0\n",
    "for i in y_test:\n",
    "    if i == 'k':\n",
    "        n += 1\n",
    "    else:\n",
    "        m += 1\n",
    "print(n)\n",
    "print(m)"
   ],
   "metadata": {
    "collapsed": false,
    "ExecuteTime": {
     "start_time": "2023-08-23T02:30:05.826513Z",
     "end_time": "2023-08-23T02:30:05.832964Z"
    }
   }
  },
  {
   "cell_type": "code",
   "execution_count": null,
   "outputs": [],
   "source": [
    "precision_score(y_test, y_pred, average=None)"
   ],
   "metadata": {
    "collapsed": false,
    "ExecuteTime": {
     "start_time": "2023-08-23T02:30:05.836324Z",
     "end_time": "2023-08-23T02:30:05.983745Z"
    }
   }
  },
  {
   "cell_type": "code",
   "execution_count": null,
   "outputs": [],
   "source": [
    "solutiondf = pd.Series()\n",
    "solutiondf['name'] = name\n",
    "for i , value in enumerate(precision_score(y_test, y_pred, average=None)):\n",
    "    print(f'{classifier.classes_[i]} = {np.round(value, 3)}')\n",
    "    solutiondf[classifier.classes_[i]] = np.round(value, 3)\n",
    "solutiondf['acc'] = np.round(classifier.score(X_test, y_test), 3)\n",
    "runtime = end_time - start_time\n",
    "minutes_difference = runtime.total_seconds() / 60\n",
    "solutiondf['time'] = np.round(minutes_difference, 3)\n",
    "solutiondf['cm'] = cm\n",
    "solutiondf['type'] = 'dtw_d'\n",
    "solutiondf['y'] = y_pred\n",
    "solutiondf['history'] = classifier.history.history\n",
    "solutiondf = pd.DataFrame([solutiondf])\n",
    "output_folder = os.path.join('solutions', 'ResNet')\n",
    "if not os.path.exists(output_folder):\n",
    "    os.makedirs(output_folder)\n",
    "path = os.path.join(output_folder, f'{name}_desc.csv')\n",
    "solutiondf.to_csv(path, mode='w', header=True)"
   ],
   "metadata": {
    "collapsed": false,
    "ExecuteTime": {
     "start_time": "2023-08-23T02:30:05.862351Z",
     "end_time": "2023-08-23T02:30:09.395151Z"
    }
   }
  },
  {
   "cell_type": "code",
   "execution_count": null,
   "outputs": [],
   "source": [
    "print(solutiondf)"
   ],
   "metadata": {
    "collapsed": false,
    "ExecuteTime": {
     "start_time": "2023-08-23T02:30:09.404044Z",
     "end_time": "2023-08-23T02:30:09.439388Z"
    }
   }
  },
  {
   "cell_type": "code",
   "execution_count": null,
   "outputs": [],
   "source": [
    "hist = classifier.history"
   ],
   "metadata": {
    "collapsed": false,
    "ExecuteTime": {
     "start_time": "2023-08-23T02:30:09.430427Z",
     "end_time": "2023-08-23T02:30:09.439590Z"
    }
   }
  },
  {
   "cell_type": "code",
   "execution_count": null,
   "outputs": [],
   "source": [
    "a = classifier.model_"
   ],
   "metadata": {
    "collapsed": false,
    "ExecuteTime": {
     "start_time": "2023-08-23T02:30:09.439861Z",
     "end_time": "2023-08-23T02:30:09.470355Z"
    }
   }
  },
  {
   "cell_type": "code",
   "execution_count": null,
   "outputs": [],
   "source": [
    "a.__dict__"
   ],
   "metadata": {
    "collapsed": false,
    "ExecuteTime": {
     "start_time": "2023-08-23T02:30:09.466489Z",
     "end_time": "2023-08-23T02:30:09.485148Z"
    }
   }
  },
  {
   "cell_type": "code",
   "execution_count": null,
   "outputs": [],
   "source": [
    "a._metrics_lock"
   ],
   "metadata": {
    "collapsed": false,
    "ExecuteTime": {
     "start_time": "2023-08-23T02:30:09.487970Z",
     "end_time": "2023-08-23T02:30:09.563132Z"
    }
   }
  },
  {
   "cell_type": "code",
   "execution_count": null,
   "outputs": [],
   "source": [
    "classifier.history.__dict__"
   ],
   "metadata": {
    "collapsed": false,
    "ExecuteTime": {
     "start_time": "2023-08-23T02:30:09.499298Z",
     "end_time": "2023-08-23T02:30:09.571980Z"
    }
   }
  },
  {
   "cell_type": "code",
   "execution_count": null,
   "outputs": [],
   "source": [
    "plotdat = classifier.history.history"
   ],
   "metadata": {
    "collapsed": false,
    "ExecuteTime": {
     "start_time": "2023-08-23T02:30:09.528413Z",
     "end_time": "2023-08-23T02:30:09.572402Z"
    }
   }
  },
  {
   "cell_type": "code",
   "execution_count": null,
   "outputs": [],
   "source": [
    "sns.lineplot(x= hist.epoch, y='loss', data=plotdat)\n",
    "sns.lineplot(x=hist.epoch, y='accuracy', data=plotdat)"
   ],
   "metadata": {
    "collapsed": false,
    "ExecuteTime": {
     "start_time": "2023-08-23T02:30:09.556069Z",
     "end_time": "2023-08-23T02:30:09.887349Z"
    }
   }
  },
  {
   "cell_type": "code",
   "execution_count": null,
   "outputs": [],
   "source": [
    "a['epoch']"
   ],
   "metadata": {
    "collapsed": false
   }
  },
  {
   "cell_type": "code",
   "execution_count": null,
   "outputs": [],
   "source": [
    "n = 0\n",
    "id_list = []\n",
    "for i, value in enumerate(y_pred):\n",
    "    if y_test[i] != y_pred[i]:\n",
    "        if y_pred[i] == '-':\n",
    "            n += 1\n",
    "            id_list.append(i)\n",
    "            print(n)\n",
    "            print(i)\n",
    "            print(y_test[i])\n",
    "            print(y_pred[i])\n",
    "            print()\n",
    "print(id_list)"
   ],
   "metadata": {
    "collapsed": false,
    "ExecuteTime": {
     "start_time": "2023-08-23T21:41:23.265062Z",
     "end_time": "2023-08-23T21:41:23.278260Z"
    }
   }
  },
  {
   "cell_type": "code",
   "execution_count": null,
   "outputs": [],
   "source": [
    "print(y_test)"
   ],
   "metadata": {
    "collapsed": false,
    "ExecuteTime": {
     "start_time": "2023-08-23T21:05:45.920735Z",
     "end_time": "2023-08-23T21:05:45.971439Z"
    }
   }
  },
  {
   "cell_type": "code",
   "execution_count": null,
   "outputs": [],
   "source": [
    "print(y_pred)"
   ],
   "metadata": {
    "collapsed": false,
    "ExecuteTime": {
     "start_time": "2023-08-23T21:05:55.086156Z",
     "end_time": "2023-08-23T21:05:55.137390Z"
    }
   }
  },
  {
   "cell_type": "code",
   "execution_count": null,
   "outputs": [],
   "source": [],
   "metadata": {
    "collapsed": false
   }
  }
 ],
 "metadata": {
  "kernelspec": {
   "display_name": "Python 3",
   "language": "python",
   "name": "python3"
  },
  "language_info": {
   "codemirror_mode": {
    "name": "ipython",
    "version": 2
   },
   "file_extension": ".py",
   "mimetype": "text/x-python",
   "name": "python",
   "nbconvert_exporter": "python",
   "pygments_lexer": "ipython2",
   "version": "2.7.6"
  }
 },
 "nbformat": 4,
 "nbformat_minor": 0
}
